{
 "cells": [
  {
   "cell_type": "code",
   "execution_count": 1,
   "metadata": {
    "ExecuteTime": {
     "end_time": "2020-08-15T06:46:27.925065Z",
     "start_time": "2020-08-15T06:46:25.797328Z"
    }
   },
   "outputs": [],
   "source": [
    "import numpy as np\n",
    "import pandas as pd\n",
    "import glob\n",
    "\n",
    "import tensorflow as tf\n",
    "import tensorflow_datasets as tfds\n",
    "\n",
    "from bs4 import BeautifulSoup"
   ]
  },
  {
   "cell_type": "markdown",
   "metadata": {},
   "source": [
    "# (Optional) GPU Setup"
   ]
  },
  {
   "cell_type": "code",
   "execution_count": 2,
   "metadata": {
    "ExecuteTime": {
     "end_time": "2020-08-15T06:46:31.768357Z",
     "start_time": "2020-08-15T06:46:31.151167Z"
    }
   },
   "outputs": [
    {
     "name": "stdout",
     "output_type": "stream",
     "text": [
      "1 Physical GPUs, 1 Logical GPU\n"
     ]
    }
   ],
   "source": [
    "######## GPU CONFIGS FOR RTX 2070 ###############\n",
    "## Please ignore if not training on GPU       ##\n",
    "## this is important for running CuDNN on GPU ##\n",
    "\n",
    "tf.keras.backend.clear_session() #- for easy reset of notebook state\n",
    "\n",
    "# chck if GPU can be seen by TF\n",
    "tf.config.list_physical_devices('GPU')\n",
    "#tf.debugging.set_log_device_placement(True)\n",
    "gpus = tf.config.experimental.list_physical_devices('GPU')\n",
    "if gpus:\n",
    "  # Restrict TensorFlow to only use the first GPU\n",
    "  try:\n",
    "    tf.config.experimental.set_memory_growth(gpus[0], True)\n",
    "    tf.config.experimental.set_visible_devices(gpus[0], 'GPU')\n",
    "    logical_gpus = tf.config.experimental.list_logical_devices('GPU')\n",
    "    print(len(gpus), \"Physical GPUs,\", len(logical_gpus), \"Logical GPU\")\n",
    "  except RuntimeError as e:\n",
    "    # Visible devices must be set before GPUs have been initialized\n",
    "    print(e)\n",
    "###############################################"
   ]
  },
  {
   "cell_type": "markdown",
   "metadata": {},
   "source": [
    "# Download Data"
   ]
  },
  {
   "cell_type": "code",
   "execution_count": 3,
   "metadata": {
    "ExecuteTime": {
     "end_time": "2020-08-15T06:46:34.396978Z",
     "start_time": "2020-08-15T06:46:34.393695Z"
    }
   },
   "outputs": [],
   "source": [
    "# Download file\n",
    "# !wget https://ai.stanford.edu/~amaas/data/sentiment/aclImdb_v1.tar.gz\n",
    "# expand archive\n",
    "# !tar xvzf aclImdb_v1.tar.gz"
   ]
  },
  {
   "cell_type": "markdown",
   "metadata": {},
   "source": [
    "# Pre-Process Data into DataFrames"
   ]
  },
  {
   "cell_type": "code",
   "execution_count": 4,
   "metadata": {
    "ExecuteTime": {
     "end_time": "2020-08-15T06:46:35.941523Z",
     "start_time": "2020-08-15T06:46:35.933804Z"
    }
   },
   "outputs": [],
   "source": [
    "def load_reviews(path, columns=[\"filename\", 'review']):\n",
    "    assert len(columns) == 2\n",
    "    l = list()\n",
    "    for filename in glob.glob(path):\n",
    "        # print(filename)\n",
    "        with open(filename, 'r') as f:\n",
    "            review = f.read()\n",
    "            l.append((filename, review))\n",
    "    return pd.DataFrame(l, columns=columns)"
   ]
  },
  {
   "cell_type": "markdown",
   "metadata": {},
   "source": [
    "## Load Unsupervised Data"
   ]
  },
  {
   "cell_type": "code",
   "execution_count": 5,
   "metadata": {
    "ExecuteTime": {
     "end_time": "2020-08-15T06:46:39.681244Z",
     "start_time": "2020-08-15T06:46:38.028298Z"
    }
   },
   "outputs": [],
   "source": [
    "unsup_df = load_reviews(\"./aclImdb/train/unsup/*.txt\")"
   ]
  },
  {
   "cell_type": "code",
   "execution_count": 6,
   "metadata": {
    "ExecuteTime": {
     "end_time": "2020-08-15T06:46:39.838139Z",
     "start_time": "2020-08-15T06:46:39.693437Z"
    }
   },
   "outputs": [
    {
     "data": {
      "text/html": [
       "<div>\n",
       "<style scoped>\n",
       "    .dataframe tbody tr th:only-of-type {\n",
       "        vertical-align: middle;\n",
       "    }\n",
       "\n",
       "    .dataframe tbody tr th {\n",
       "        vertical-align: top;\n",
       "    }\n",
       "\n",
       "    .dataframe thead th {\n",
       "        text-align: right;\n",
       "    }\n",
       "</style>\n",
       "<table border=\"1\" class=\"dataframe\">\n",
       "  <thead>\n",
       "    <tr style=\"text-align: right;\">\n",
       "      <th></th>\n",
       "      <th>filename</th>\n",
       "      <th>review</th>\n",
       "    </tr>\n",
       "  </thead>\n",
       "  <tbody>\n",
       "    <tr>\n",
       "      <th>count</th>\n",
       "      <td>50000</td>\n",
       "      <td>50000</td>\n",
       "    </tr>\n",
       "    <tr>\n",
       "      <th>unique</th>\n",
       "      <td>50000</td>\n",
       "      <td>49507</td>\n",
       "    </tr>\n",
       "    <tr>\n",
       "      <th>top</th>\n",
       "      <td>./aclImdb/train/unsup/26472_0.txt</td>\n",
       "      <td>Am not from America, I usually watch this show...</td>\n",
       "    </tr>\n",
       "    <tr>\n",
       "      <th>freq</th>\n",
       "      <td>1</td>\n",
       "      <td>5</td>\n",
       "    </tr>\n",
       "  </tbody>\n",
       "</table>\n",
       "</div>"
      ],
      "text/plain": [
       "                                 filename  \\\n",
       "count                               50000   \n",
       "unique                              50000   \n",
       "top     ./aclImdb/train/unsup/26472_0.txt   \n",
       "freq                                    1   \n",
       "\n",
       "                                                   review  \n",
       "count                                               50000  \n",
       "unique                                              49507  \n",
       "top     Am not from America, I usually watch this show...  \n",
       "freq                                                    5  "
      ]
     },
     "execution_count": 6,
     "metadata": {},
     "output_type": "execute_result"
    }
   ],
   "source": [
    "unsup_df.describe()"
   ]
  },
  {
   "cell_type": "markdown",
   "metadata": {},
   "source": [
    "## Load Training Set"
   ]
  },
  {
   "cell_type": "code",
   "execution_count": 7,
   "metadata": {
    "ExecuteTime": {
     "end_time": "2020-08-15T06:46:39.852948Z",
     "start_time": "2020-08-15T06:46:39.847939Z"
    }
   },
   "outputs": [],
   "source": [
    "def load_labelled_data(path, neg='/neg/', \n",
    "                       pos='/pos/', shuffle=True):\n",
    "    neg_df = load_reviews(path + neg + \"*.txt\")\n",
    "    pos_df = load_reviews(path + pos + \"*.txt\")\n",
    "    neg_df['sentiment'] = 0\n",
    "    pos_df['sentiment'] = 1\n",
    "    df = pd.concat([neg_df, pos_df], axis=0)\n",
    "    if shuffle:\n",
    "        df = df.sample(frac=1, random_state=42)\n",
    "    return df"
   ]
  },
  {
   "cell_type": "code",
   "execution_count": 8,
   "metadata": {
    "ExecuteTime": {
     "end_time": "2020-08-15T06:46:40.691284Z",
     "start_time": "2020-08-15T06:46:39.862681Z"
    }
   },
   "outputs": [],
   "source": [
    "train_df = load_labelled_data(\"./aclImdb/train/\")"
   ]
  },
  {
   "cell_type": "code",
   "execution_count": 9,
   "metadata": {
    "ExecuteTime": {
     "end_time": "2020-08-15T06:46:40.717378Z",
     "start_time": "2020-08-15T06:46:40.705779Z"
    }
   },
   "outputs": [
    {
     "name": "stdout",
     "output_type": "stream",
     "text": [
      "<class 'pandas.core.frame.DataFrame'>\n",
      "Int64Index: 25000 entries, 6868 to 11154\n",
      "Data columns (total 3 columns):\n",
      "filename     25000 non-null object\n",
      "review       25000 non-null object\n",
      "sentiment    25000 non-null int64\n",
      "dtypes: int64(1), object(2)\n",
      "memory usage: 781.2+ KB\n"
     ]
    }
   ],
   "source": [
    "train_df.info()"
   ]
  },
  {
   "cell_type": "code",
   "execution_count": 10,
   "metadata": {
    "ExecuteTime": {
     "end_time": "2020-08-15T06:46:40.739281Z",
     "start_time": "2020-08-15T06:46:40.731983Z"
    }
   },
   "outputs": [
    {
     "data": {
      "text/html": [
       "<div>\n",
       "<style scoped>\n",
       "    .dataframe tbody tr th:only-of-type {\n",
       "        vertical-align: middle;\n",
       "    }\n",
       "\n",
       "    .dataframe tbody tr th {\n",
       "        vertical-align: top;\n",
       "    }\n",
       "\n",
       "    .dataframe thead th {\n",
       "        text-align: right;\n",
       "    }\n",
       "</style>\n",
       "<table border=\"1\" class=\"dataframe\">\n",
       "  <thead>\n",
       "    <tr style=\"text-align: right;\">\n",
       "      <th></th>\n",
       "      <th>filename</th>\n",
       "      <th>review</th>\n",
       "      <th>sentiment</th>\n",
       "    </tr>\n",
       "  </thead>\n",
       "  <tbody>\n",
       "    <tr>\n",
       "      <th>6868</th>\n",
       "      <td>./aclImdb/train//neg/6326_4.txt</td>\n",
       "      <td>If you're in the mood for some dopey light ent...</td>\n",
       "      <td>0</td>\n",
       "    </tr>\n",
       "    <tr>\n",
       "      <th>11516</th>\n",
       "      <td>./aclImdb/train//pos/11177_8.txt</td>\n",
       "      <td>*****Spoilers herein*****&lt;br /&gt;&lt;br /&gt;What real...</td>\n",
       "      <td>1</td>\n",
       "    </tr>\n",
       "    <tr>\n",
       "      <th>9668</th>\n",
       "      <td>./aclImdb/train//neg/2172_2.txt</td>\n",
       "      <td>Bottom of the barrel, unimaginative, and pract...</td>\n",
       "      <td>0</td>\n",
       "    </tr>\n",
       "    <tr>\n",
       "      <th>1140</th>\n",
       "      <td>./aclImdb/train//pos/2065_7.txt</td>\n",
       "      <td>Fearful Symmetry is a pleasant episode with a ...</td>\n",
       "      <td>1</td>\n",
       "    </tr>\n",
       "    <tr>\n",
       "      <th>1518</th>\n",
       "      <td>./aclImdb/train//pos/7147_10.txt</td>\n",
       "      <td>I found the storyline in this movie to be very...</td>\n",
       "      <td>1</td>\n",
       "    </tr>\n",
       "  </tbody>\n",
       "</table>\n",
       "</div>"
      ],
      "text/plain": [
       "                               filename  \\\n",
       "6868    ./aclImdb/train//neg/6326_4.txt   \n",
       "11516  ./aclImdb/train//pos/11177_8.txt   \n",
       "9668    ./aclImdb/train//neg/2172_2.txt   \n",
       "1140    ./aclImdb/train//pos/2065_7.txt   \n",
       "1518   ./aclImdb/train//pos/7147_10.txt   \n",
       "\n",
       "                                                  review  sentiment  \n",
       "6868   If you're in the mood for some dopey light ent...          0  \n",
       "11516  *****Spoilers herein*****<br /><br />What real...          1  \n",
       "9668   Bottom of the barrel, unimaginative, and pract...          0  \n",
       "1140   Fearful Symmetry is a pleasant episode with a ...          1  \n",
       "1518   I found the storyline in this movie to be very...          1  "
      ]
     },
     "execution_count": 10,
     "metadata": {},
     "output_type": "execute_result"
    }
   ],
   "source": [
    "train_df.head()"
   ]
  },
  {
   "cell_type": "code",
   "execution_count": 11,
   "metadata": {
    "ExecuteTime": {
     "end_time": "2020-08-15T06:46:40.792841Z",
     "start_time": "2020-08-15T06:46:40.787637Z"
    }
   },
   "outputs": [],
   "source": [
    "def fn_to_score(f):\n",
    "    scr = f.split(\"/\")[-1]  # get file name\n",
    "    scr = scr.split(\".\")[0] # remove extension\n",
    "    scr = int(scr.split(\"_\")[-1]) #the score\n",
    "    return scr"
   ]
  },
  {
   "cell_type": "code",
   "execution_count": 12,
   "metadata": {
    "ExecuteTime": {
     "end_time": "2020-08-15T06:46:41.539107Z",
     "start_time": "2020-08-15T06:46:41.493198Z"
    }
   },
   "outputs": [],
   "source": [
    "train_df['score'] = train_df.filename.apply(fn_to_score)"
   ]
  },
  {
   "cell_type": "code",
   "execution_count": 13,
   "metadata": {
    "ExecuteTime": {
     "end_time": "2020-08-15T06:46:41.740239Z",
     "start_time": "2020-08-15T06:46:41.722393Z"
    }
   },
   "outputs": [
    {
     "data": {
      "text/html": [
       "<div>\n",
       "<style scoped>\n",
       "    .dataframe tbody tr th:only-of-type {\n",
       "        vertical-align: middle;\n",
       "    }\n",
       "\n",
       "    .dataframe tbody tr th {\n",
       "        vertical-align: top;\n",
       "    }\n",
       "\n",
       "    .dataframe thead th {\n",
       "        text-align: right;\n",
       "    }\n",
       "</style>\n",
       "<table border=\"1\" class=\"dataframe\">\n",
       "  <thead>\n",
       "    <tr style=\"text-align: right;\">\n",
       "      <th></th>\n",
       "      <th>filename</th>\n",
       "      <th>review</th>\n",
       "      <th>sentiment</th>\n",
       "      <th>score</th>\n",
       "    </tr>\n",
       "  </thead>\n",
       "  <tbody>\n",
       "    <tr>\n",
       "      <th>6868</th>\n",
       "      <td>./aclImdb/train//neg/6326_4.txt</td>\n",
       "      <td>If you're in the mood for some dopey light ent...</td>\n",
       "      <td>0</td>\n",
       "      <td>4</td>\n",
       "    </tr>\n",
       "    <tr>\n",
       "      <th>11516</th>\n",
       "      <td>./aclImdb/train//pos/11177_8.txt</td>\n",
       "      <td>*****Spoilers herein*****&lt;br /&gt;&lt;br /&gt;What real...</td>\n",
       "      <td>1</td>\n",
       "      <td>8</td>\n",
       "    </tr>\n",
       "    <tr>\n",
       "      <th>9668</th>\n",
       "      <td>./aclImdb/train//neg/2172_2.txt</td>\n",
       "      <td>Bottom of the barrel, unimaginative, and pract...</td>\n",
       "      <td>0</td>\n",
       "      <td>2</td>\n",
       "    </tr>\n",
       "    <tr>\n",
       "      <th>1140</th>\n",
       "      <td>./aclImdb/train//pos/2065_7.txt</td>\n",
       "      <td>Fearful Symmetry is a pleasant episode with a ...</td>\n",
       "      <td>1</td>\n",
       "      <td>7</td>\n",
       "    </tr>\n",
       "    <tr>\n",
       "      <th>1518</th>\n",
       "      <td>./aclImdb/train//pos/7147_10.txt</td>\n",
       "      <td>I found the storyline in this movie to be very...</td>\n",
       "      <td>1</td>\n",
       "      <td>10</td>\n",
       "    </tr>\n",
       "  </tbody>\n",
       "</table>\n",
       "</div>"
      ],
      "text/plain": [
       "                               filename  \\\n",
       "6868    ./aclImdb/train//neg/6326_4.txt   \n",
       "11516  ./aclImdb/train//pos/11177_8.txt   \n",
       "9668    ./aclImdb/train//neg/2172_2.txt   \n",
       "1140    ./aclImdb/train//pos/2065_7.txt   \n",
       "1518   ./aclImdb/train//pos/7147_10.txt   \n",
       "\n",
       "                                                  review  sentiment  score  \n",
       "6868   If you're in the mood for some dopey light ent...          0      4  \n",
       "11516  *****Spoilers herein*****<br /><br />What real...          1      8  \n",
       "9668   Bottom of the barrel, unimaginative, and pract...          0      2  \n",
       "1140   Fearful Symmetry is a pleasant episode with a ...          1      7  \n",
       "1518   I found the storyline in this movie to be very...          1     10  "
      ]
     },
     "execution_count": 13,
     "metadata": {},
     "output_type": "execute_result"
    }
   ],
   "source": [
    "train_df.head()"
   ]
  },
  {
   "cell_type": "code",
   "execution_count": 14,
   "metadata": {
    "ExecuteTime": {
     "end_time": "2020-08-15T06:46:42.521873Z",
     "start_time": "2020-08-15T06:46:42.490263Z"
    }
   },
   "outputs": [
    {
     "data": {
      "text/html": [
       "<div>\n",
       "<style scoped>\n",
       "    .dataframe tbody tr th:only-of-type {\n",
       "        vertical-align: middle;\n",
       "    }\n",
       "\n",
       "    .dataframe tbody tr th {\n",
       "        vertical-align: top;\n",
       "    }\n",
       "\n",
       "    .dataframe thead th {\n",
       "        text-align: right;\n",
       "    }\n",
       "</style>\n",
       "<table border=\"1\" class=\"dataframe\">\n",
       "  <thead>\n",
       "    <tr style=\"text-align: right;\">\n",
       "      <th></th>\n",
       "      <th>filename</th>\n",
       "      <th>review</th>\n",
       "      <th>sentiment</th>\n",
       "      <th>score</th>\n",
       "    </tr>\n",
       "  </thead>\n",
       "  <tbody>\n",
       "    <tr>\n",
       "      <th>5737</th>\n",
       "      <td>./aclImdb/train//neg/12409_1.txt</td>\n",
       "      <td>And that comes from someone that will withstan...</td>\n",
       "      <td>0</td>\n",
       "      <td>1</td>\n",
       "    </tr>\n",
       "    <tr>\n",
       "      <th>3779</th>\n",
       "      <td>./aclImdb/train//neg/10918_1.txt</td>\n",
       "      <td>Manmohan Desai made some entertaining though i...</td>\n",
       "      <td>0</td>\n",
       "      <td>1</td>\n",
       "    </tr>\n",
       "    <tr>\n",
       "      <th>8225</th>\n",
       "      <td>./aclImdb/train//neg/5132_2.txt</td>\n",
       "      <td>I found out about this film because Jewish Ben...</td>\n",
       "      <td>0</td>\n",
       "      <td>2</td>\n",
       "    </tr>\n",
       "    <tr>\n",
       "      <th>7673</th>\n",
       "      <td>./aclImdb/train//neg/2016_2.txt</td>\n",
       "      <td>*****Warning: May contain SPOILERS********* My...</td>\n",
       "      <td>0</td>\n",
       "      <td>2</td>\n",
       "    </tr>\n",
       "    <tr>\n",
       "      <th>11432</th>\n",
       "      <td>./aclImdb/train//neg/11945_3.txt</td>\n",
       "      <td>People love the original story for its ending....</td>\n",
       "      <td>0</td>\n",
       "      <td>3</td>\n",
       "    </tr>\n",
       "    <tr>\n",
       "      <th>8517</th>\n",
       "      <td>./aclImdb/train//neg/9635_3.txt</td>\n",
       "      <td>WOW! Pretty terrible stuff. The Richard Burton...</td>\n",
       "      <td>0</td>\n",
       "      <td>3</td>\n",
       "    </tr>\n",
       "    <tr>\n",
       "      <th>4427</th>\n",
       "      <td>./aclImdb/train//neg/6560_4.txt</td>\n",
       "      <td>\"Shadrach\" was not my favorite type of movie. ...</td>\n",
       "      <td>0</td>\n",
       "      <td>4</td>\n",
       "    </tr>\n",
       "    <tr>\n",
       "      <th>9791</th>\n",
       "      <td>./aclImdb/train//neg/8351_4.txt</td>\n",
       "      <td>Quite average even by Monogram standards, this...</td>\n",
       "      <td>0</td>\n",
       "      <td>4</td>\n",
       "    </tr>\n",
       "    <tr>\n",
       "      <th>3025</th>\n",
       "      <td>./aclImdb/train//pos/10654_7.txt</td>\n",
       "      <td>The Haunting is a film that boasts a really cr...</td>\n",
       "      <td>1</td>\n",
       "      <td>7</td>\n",
       "    </tr>\n",
       "    <tr>\n",
       "      <th>3381</th>\n",
       "      <td>./aclImdb/train//pos/5642_7.txt</td>\n",
       "      <td>(SPOILERS IN FIRST PARAGRAPH) This movie's ant...</td>\n",
       "      <td>1</td>\n",
       "      <td>7</td>\n",
       "    </tr>\n",
       "    <tr>\n",
       "      <th>807</th>\n",
       "      <td>./aclImdb/train//pos/10079_8.txt</td>\n",
       "      <td>I enjoyed the cinematographic recreation of Ch...</td>\n",
       "      <td>1</td>\n",
       "      <td>8</td>\n",
       "    </tr>\n",
       "    <tr>\n",
       "      <th>1124</th>\n",
       "      <td>./aclImdb/train//pos/11144_8.txt</td>\n",
       "      <td>Midnight Cowboy opens with a run down Drive In...</td>\n",
       "      <td>1</td>\n",
       "      <td>8</td>\n",
       "    </tr>\n",
       "    <tr>\n",
       "      <th>6805</th>\n",
       "      <td>./aclImdb/train//pos/11615_9.txt</td>\n",
       "      <td>Distortion is a disturbing, haunting film, abo...</td>\n",
       "      <td>1</td>\n",
       "      <td>9</td>\n",
       "    </tr>\n",
       "    <tr>\n",
       "      <th>4497</th>\n",
       "      <td>./aclImdb/train//pos/4489_9.txt</td>\n",
       "      <td>This film is NOT about a cat and mouse fight a...</td>\n",
       "      <td>1</td>\n",
       "      <td>9</td>\n",
       "    </tr>\n",
       "    <tr>\n",
       "      <th>2883</th>\n",
       "      <td>./aclImdb/train//pos/2134_10.txt</td>\n",
       "      <td>Ernst Lubitsch's contribution to the American ...</td>\n",
       "      <td>1</td>\n",
       "      <td>10</td>\n",
       "    </tr>\n",
       "    <tr>\n",
       "      <th>9490</th>\n",
       "      <td>./aclImdb/train//pos/7045_10.txt</td>\n",
       "      <td>This film definitely gets a thumbs up from me....</td>\n",
       "      <td>1</td>\n",
       "      <td>10</td>\n",
       "    </tr>\n",
       "  </tbody>\n",
       "</table>\n",
       "</div>"
      ],
      "text/plain": [
       "                               filename  \\\n",
       "5737   ./aclImdb/train//neg/12409_1.txt   \n",
       "3779   ./aclImdb/train//neg/10918_1.txt   \n",
       "8225    ./aclImdb/train//neg/5132_2.txt   \n",
       "7673    ./aclImdb/train//neg/2016_2.txt   \n",
       "11432  ./aclImdb/train//neg/11945_3.txt   \n",
       "8517    ./aclImdb/train//neg/9635_3.txt   \n",
       "4427    ./aclImdb/train//neg/6560_4.txt   \n",
       "9791    ./aclImdb/train//neg/8351_4.txt   \n",
       "3025   ./aclImdb/train//pos/10654_7.txt   \n",
       "3381    ./aclImdb/train//pos/5642_7.txt   \n",
       "807    ./aclImdb/train//pos/10079_8.txt   \n",
       "1124   ./aclImdb/train//pos/11144_8.txt   \n",
       "6805   ./aclImdb/train//pos/11615_9.txt   \n",
       "4497    ./aclImdb/train//pos/4489_9.txt   \n",
       "2883   ./aclImdb/train//pos/2134_10.txt   \n",
       "9490   ./aclImdb/train//pos/7045_10.txt   \n",
       "\n",
       "                                                  review  sentiment  score  \n",
       "5737   And that comes from someone that will withstan...          0      1  \n",
       "3779   Manmohan Desai made some entertaining though i...          0      1  \n",
       "8225   I found out about this film because Jewish Ben...          0      2  \n",
       "7673   *****Warning: May contain SPOILERS********* My...          0      2  \n",
       "11432  People love the original story for its ending....          0      3  \n",
       "8517   WOW! Pretty terrible stuff. The Richard Burton...          0      3  \n",
       "4427   \"Shadrach\" was not my favorite type of movie. ...          0      4  \n",
       "9791   Quite average even by Monogram standards, this...          0      4  \n",
       "3025   The Haunting is a film that boasts a really cr...          1      7  \n",
       "3381   (SPOILERS IN FIRST PARAGRAPH) This movie's ant...          1      7  \n",
       "807    I enjoyed the cinematographic recreation of Ch...          1      8  \n",
       "1124   Midnight Cowboy opens with a run down Drive In...          1      8  \n",
       "6805   Distortion is a disturbing, haunting film, abo...          1      9  \n",
       "4497   This film is NOT about a cat and mouse fight a...          1      9  \n",
       "2883   Ernst Lubitsch's contribution to the American ...          1     10  \n",
       "9490   This film definitely gets a thumbs up from me....          1     10  "
      ]
     },
     "execution_count": 14,
     "metadata": {},
     "output_type": "execute_result"
    }
   ],
   "source": [
    "train_df.groupby('score', group_keys=False).\\\n",
    "    apply(lambda x: x.sample(min(len(x), 2), random_state=42))"
   ]
  },
  {
   "cell_type": "markdown",
   "metadata": {},
   "source": [
    "## Load Testing Set"
   ]
  },
  {
   "cell_type": "code",
   "execution_count": 15,
   "metadata": {
    "ExecuteTime": {
     "end_time": "2020-08-15T06:46:44.398725Z",
     "start_time": "2020-08-15T06:46:43.574617Z"
    }
   },
   "outputs": [],
   "source": [
    "test_df = load_labelled_data(\"./aclImdb/test/\")"
   ]
  },
  {
   "cell_type": "code",
   "execution_count": 16,
   "metadata": {
    "ExecuteTime": {
     "end_time": "2020-08-15T06:46:44.423829Z",
     "start_time": "2020-08-15T06:46:44.416571Z"
    }
   },
   "outputs": [
    {
     "data": {
      "text/html": [
       "<div>\n",
       "<style scoped>\n",
       "    .dataframe tbody tr th:only-of-type {\n",
       "        vertical-align: middle;\n",
       "    }\n",
       "\n",
       "    .dataframe tbody tr th {\n",
       "        vertical-align: top;\n",
       "    }\n",
       "\n",
       "    .dataframe thead th {\n",
       "        text-align: right;\n",
       "    }\n",
       "</style>\n",
       "<table border=\"1\" class=\"dataframe\">\n",
       "  <thead>\n",
       "    <tr style=\"text-align: right;\">\n",
       "      <th></th>\n",
       "      <th>filename</th>\n",
       "      <th>review</th>\n",
       "      <th>sentiment</th>\n",
       "    </tr>\n",
       "  </thead>\n",
       "  <tbody>\n",
       "    <tr>\n",
       "      <th>6868</th>\n",
       "      <td>./aclImdb/test//neg/5527_4.txt</td>\n",
       "      <td>The problem with making a movie like this, tho...</td>\n",
       "      <td>0</td>\n",
       "    </tr>\n",
       "    <tr>\n",
       "      <th>11516</th>\n",
       "      <td>./aclImdb/test//pos/2126_9.txt</td>\n",
       "      <td>I feel that this movie is different from so ma...</td>\n",
       "      <td>1</td>\n",
       "    </tr>\n",
       "    <tr>\n",
       "      <th>9668</th>\n",
       "      <td>./aclImdb/test//neg/176_3.txt</td>\n",
       "      <td>The filmmakers try to paint the influence of t...</td>\n",
       "      <td>0</td>\n",
       "    </tr>\n",
       "    <tr>\n",
       "      <th>1140</th>\n",
       "      <td>./aclImdb/test//pos/4748_8.txt</td>\n",
       "      <td>I recently got THE SEVEN-UPS on video and I mu...</td>\n",
       "      <td>1</td>\n",
       "    </tr>\n",
       "    <tr>\n",
       "      <th>1518</th>\n",
       "      <td>./aclImdb/test//pos/11170_10.txt</td>\n",
       "      <td>This movie is a real thriller! It was exciting...</td>\n",
       "      <td>1</td>\n",
       "    </tr>\n",
       "  </tbody>\n",
       "</table>\n",
       "</div>"
      ],
      "text/plain": [
       "                               filename  \\\n",
       "6868     ./aclImdb/test//neg/5527_4.txt   \n",
       "11516    ./aclImdb/test//pos/2126_9.txt   \n",
       "9668      ./aclImdb/test//neg/176_3.txt   \n",
       "1140     ./aclImdb/test//pos/4748_8.txt   \n",
       "1518   ./aclImdb/test//pos/11170_10.txt   \n",
       "\n",
       "                                                  review  sentiment  \n",
       "6868   The problem with making a movie like this, tho...          0  \n",
       "11516  I feel that this movie is different from so ma...          1  \n",
       "9668   The filmmakers try to paint the influence of t...          0  \n",
       "1140   I recently got THE SEVEN-UPS on video and I mu...          1  \n",
       "1518   This movie is a real thriller! It was exciting...          1  "
      ]
     },
     "execution_count": 16,
     "metadata": {},
     "output_type": "execute_result"
    }
   ],
   "source": [
    "test_df.head()"
   ]
  },
  {
   "cell_type": "code",
   "execution_count": 17,
   "metadata": {
    "ExecuteTime": {
     "end_time": "2020-08-15T06:46:45.536666Z",
     "start_time": "2020-08-15T06:46:45.519747Z"
    }
   },
   "outputs": [
    {
     "name": "stdout",
     "output_type": "stream",
     "text": [
      "<class 'pandas.core.frame.DataFrame'>\n",
      "Int64Index: 25000 entries, 6868 to 11154\n",
      "Data columns (total 3 columns):\n",
      "filename     25000 non-null object\n",
      "review       25000 non-null object\n",
      "sentiment    25000 non-null int64\n",
      "dtypes: int64(1), object(2)\n",
      "memory usage: 781.2+ KB\n"
     ]
    }
   ],
   "source": [
    "test_df.info()"
   ]
  },
  {
   "cell_type": "code",
   "execution_count": 18,
   "metadata": {
    "ExecuteTime": {
     "end_time": "2020-08-15T06:46:57.484226Z",
     "start_time": "2020-08-15T06:46:57.466396Z"
    }
   },
   "outputs": [
    {
     "data": {
      "text/html": [
       "<div>\n",
       "<style scoped>\n",
       "    .dataframe tbody tr th:only-of-type {\n",
       "        vertical-align: middle;\n",
       "    }\n",
       "\n",
       "    .dataframe tbody tr th {\n",
       "        vertical-align: top;\n",
       "    }\n",
       "\n",
       "    .dataframe thead th {\n",
       "        text-align: right;\n",
       "    }\n",
       "</style>\n",
       "<table border=\"1\" class=\"dataframe\">\n",
       "  <thead>\n",
       "    <tr style=\"text-align: right;\">\n",
       "      <th></th>\n",
       "      <th>sentiment</th>\n",
       "    </tr>\n",
       "  </thead>\n",
       "  <tbody>\n",
       "    <tr>\n",
       "      <th>count</th>\n",
       "      <td>25000.00000</td>\n",
       "    </tr>\n",
       "    <tr>\n",
       "      <th>mean</th>\n",
       "      <td>0.50000</td>\n",
       "    </tr>\n",
       "    <tr>\n",
       "      <th>std</th>\n",
       "      <td>0.50001</td>\n",
       "    </tr>\n",
       "    <tr>\n",
       "      <th>min</th>\n",
       "      <td>0.00000</td>\n",
       "    </tr>\n",
       "    <tr>\n",
       "      <th>25%</th>\n",
       "      <td>0.00000</td>\n",
       "    </tr>\n",
       "    <tr>\n",
       "      <th>50%</th>\n",
       "      <td>0.50000</td>\n",
       "    </tr>\n",
       "    <tr>\n",
       "      <th>75%</th>\n",
       "      <td>1.00000</td>\n",
       "    </tr>\n",
       "    <tr>\n",
       "      <th>max</th>\n",
       "      <td>1.00000</td>\n",
       "    </tr>\n",
       "  </tbody>\n",
       "</table>\n",
       "</div>"
      ],
      "text/plain": [
       "         sentiment\n",
       "count  25000.00000\n",
       "mean       0.50000\n",
       "std        0.50001\n",
       "min        0.00000\n",
       "25%        0.00000\n",
       "50%        0.50000\n",
       "75%        1.00000\n",
       "max        1.00000"
      ]
     },
     "execution_count": 18,
     "metadata": {},
     "output_type": "execute_result"
    }
   ],
   "source": [
    "test_df.describe()"
   ]
  },
  {
   "cell_type": "markdown",
   "metadata": {
    "heading_collapsed": true
   },
   "source": [
    "# Create a Tokenizer"
   ]
  },
  {
   "cell_type": "code",
   "execution_count": 58,
   "metadata": {
    "ExecuteTime": {
     "end_time": "2020-08-07T05:55:34.478450Z",
     "start_time": "2020-08-07T05:55:34.466781Z"
    },
    "hidden": true
   },
   "outputs": [],
   "source": [
    "# we need to combine both training and unsupervised datasets\n",
    "# while creating the subword tokenizer\n",
    "text = unsup_df.review.to_list() + train_df.review.to_list()"
   ]
  },
  {
   "cell_type": "code",
   "execution_count": 59,
   "metadata": {
    "ExecuteTime": {
     "end_time": "2020-08-07T05:55:37.240020Z",
     "start_time": "2020-08-07T05:55:37.236507Z"
    },
    "hidden": true
   },
   "outputs": [
    {
     "data": {
      "text/plain": [
       "75000"
      ]
     },
     "execution_count": 59,
     "metadata": {},
     "output_type": "execute_result"
    }
   ],
   "source": [
    "len(text)"
   ]
  },
  {
   "cell_type": "code",
   "execution_count": 60,
   "metadata": {
    "ExecuteTime": {
     "end_time": "2020-08-07T05:55:44.283061Z",
     "start_time": "2020-08-07T05:55:44.276724Z"
    },
    "hidden": true
   },
   "outputs": [
    {
     "data": {
      "text/plain": [
       "[\"Plague doctors, the physicians who treated the sick during the Great Plague of London, wore wide-brimmed black hats, long black overcoats and primitive gas masks in the shape of a bird's beak; in short, they looked bloody freaky.<br /><br />Horror newcomer Curtis Radclyffe attempts to capitalise on the unsettling nature of these bizarre historical figures by making them the antagonists in his film The Sick House, but fails to realise that having a cool looking killer just isn't enough on its own: a coherent plot, decent acting, competent editing and considered direction doesn't go amiss either.<br /><br />After a thoroughly confusing pre-credits sequence featuring a whispering child, Radclyffe's film begins proper with the discovery of a sealed chamber beneath a 17th century hospital. Archaeologist Anna (Gina Philips) is keen to find out what is on the inside, but when the site is declared to be a bio-hazard, she is prevented from continuing her dig. So what does this supposedly intelligent scientist do next? Why, break in, of course\\x97a stroke of genius which not only results in an outbreak of the plague, but also the resurrection of a murderous plague doctor. Meanwhile, a car full of joy-riders seek refuge in the hospital after their fun results in a fatal accident. Guess who's going to wish they'd not broken their ASBOs...<br /><br />Having introduced his raft of thoroughly selfish characters, and established them within a fairly creepy locale, Radclyffe then proceeds to belie his novice status as both a writer and director by boring the pants off his audience with a solid hour and a half of people wandering aimlessly through dark corridors, whilst the shadowy plague doctor randomly appears and disappears in the shadows.<br /><br />Fluorescent lights flicker on and off to add a little extra ambiance (or in my case, to irritate me even further), none of the supernatural events that occur are ever adequately explained, gimmicky editing and post production trickery makes everything extremely hard to follow, and the whole thing finishes as confusingly as it began, with a child once again whispering some nonsense that might possibly have made some sense had I not given up caring long before.\",\n",
       " 'I\\'m a fan of B-movies, but this Poverty Row film is so bad, I\\'m tempted not to bother reviewing it, but that cool title is what suckered me into watching it, so maybe my review will save others who might be equally tempted. This begins with a good scene that was duplicated in a later (and much better) Ronald Reagan B-movie, SECRET SERVICE OF THE AIR, in which a pilot, smuggling a Chinese family of illegal aliens, dumps them out in mid-air to their deaths when he\\'s attacked by another plane. The pilot, angry when his boss won\\'t pay him for the aborted delivery, calls the Feds and offers to give them the goods on the smuggling ring, but is shot to death just before the agents raid the Chinese restaurant which is the front for the gang. The leader, Sidney Blackmer, gets away, but agent Regis Toomey, his older sidekick (J. Farrell McDonald), and a prominent judge\\'s daughter (Esther Ralston) try to infiltrate the gang, only to wind up in danger. The 70-minute movie is filled with inept photography, bad sets, and flubbed lines left in, and the lack of any background music at all only accentuates the sheer boredom of the proceedings. Even the promise of a moderately exciting air chase at the end goes nowhere. The actors, all pros who have done good B-film work elsewhere, are left at sea by bad direction and zero production values. Blackmer gets one nicely slimy, almost campy line, when he says, \"Orientals have a peculiar irresistible fascination for me,\" but despite the promise of the melodramatic title, this one will hold no one\\'s interest.',\n",
       " \"It is much too easy to fall into the post-World War Two media trap that the war was a man's war, and that women were just incidental to the effort. Thank goodness there are movies like this to remind Americans that the war was a total effort by almost everyone. In a real sense, women have not yet received full honor for their contribution to the war effort, whether they were ferrying planes, tending wounded, of carrying intelligence. In this film, one finds the horrors of war go beyond the battle lines into the minds of those who faced the reality of a world weary and frightened of war. This movie is also a reminder that most Americans during the war saw the fall of Bataan and the Phillippines as the major tragedy of the time. Pearl Harbor was frightening enough, but the very magnitude of defeat in the Pacific brought home the reality that there would be more casualties--if they could get off the island. It is difficult to find a Colbert movie of this period where she did not excel as a actress. This movie is no exception, she is extraordinary. Also, the evacuation scene is spectacular. If this movie did not inspire the Homefront to greater effort, what could? World War Two was everyone's war, and the peace would be everyone's peace.\"]"
      ]
     },
     "execution_count": 60,
     "metadata": {},
     "output_type": "execute_result"
    }
   ],
   "source": [
    "text[:3]"
   ]
  },
  {
   "cell_type": "code",
   "execution_count": 63,
   "metadata": {
    "ExecuteTime": {
     "end_time": "2020-08-07T06:06:29.248190Z",
     "start_time": "2020-08-07T06:06:15.437208Z"
    },
    "hidden": true
   },
   "outputs": [],
   "source": [
    "txt = [ BeautifulSoup(x).text for x in text ]"
   ]
  },
  {
   "cell_type": "code",
   "execution_count": 64,
   "metadata": {
    "ExecuteTime": {
     "end_time": "2020-08-07T06:06:42.085646Z",
     "start_time": "2020-08-07T06:06:42.079299Z"
    },
    "hidden": true
   },
   "outputs": [
    {
     "data": {
      "text/plain": [
       "[\"Plague doctors, the physicians who treated the sick during the Great Plague of London, wore wide-brimmed black hats, long black overcoats and primitive gas masks in the shape of a bird's beak; in short, they looked bloody freaky.Horror newcomer Curtis Radclyffe attempts to capitalise on the unsettling nature of these bizarre historical figures by making them the antagonists in his film The Sick House, but fails to realise that having a cool looking killer just isn't enough on its own: a coherent plot, decent acting, competent editing and considered direction doesn't go amiss either.After a thoroughly confusing pre-credits sequence featuring a whispering child, Radclyffe's film begins proper with the discovery of a sealed chamber beneath a 17th century hospital. Archaeologist Anna (Gina Philips) is keen to find out what is on the inside, but when the site is declared to be a bio-hazard, she is prevented from continuing her dig. So what does this supposedly intelligent scientist do next? Why, break in, of course\\x97a stroke of genius which not only results in an outbreak of the plague, but also the resurrection of a murderous plague doctor. Meanwhile, a car full of joy-riders seek refuge in the hospital after their fun results in a fatal accident. Guess who's going to wish they'd not broken their ASBOs...Having introduced his raft of thoroughly selfish characters, and established them within a fairly creepy locale, Radclyffe then proceeds to belie his novice status as both a writer and director by boring the pants off his audience with a solid hour and a half of people wandering aimlessly through dark corridors, whilst the shadowy plague doctor randomly appears and disappears in the shadows.Fluorescent lights flicker on and off to add a little extra ambiance (or in my case, to irritate me even further), none of the supernatural events that occur are ever adequately explained, gimmicky editing and post production trickery makes everything extremely hard to follow, and the whole thing finishes as confusingly as it began, with a child once again whispering some nonsense that might possibly have made some sense had I not given up caring long before.\",\n",
       " 'I\\'m a fan of B-movies, but this Poverty Row film is so bad, I\\'m tempted not to bother reviewing it, but that cool title is what suckered me into watching it, so maybe my review will save others who might be equally tempted. This begins with a good scene that was duplicated in a later (and much better) Ronald Reagan B-movie, SECRET SERVICE OF THE AIR, in which a pilot, smuggling a Chinese family of illegal aliens, dumps them out in mid-air to their deaths when he\\'s attacked by another plane. The pilot, angry when his boss won\\'t pay him for the aborted delivery, calls the Feds and offers to give them the goods on the smuggling ring, but is shot to death just before the agents raid the Chinese restaurant which is the front for the gang. The leader, Sidney Blackmer, gets away, but agent Regis Toomey, his older sidekick (J. Farrell McDonald), and a prominent judge\\'s daughter (Esther Ralston) try to infiltrate the gang, only to wind up in danger. The 70-minute movie is filled with inept photography, bad sets, and flubbed lines left in, and the lack of any background music at all only accentuates the sheer boredom of the proceedings. Even the promise of a moderately exciting air chase at the end goes nowhere. The actors, all pros who have done good B-film work elsewhere, are left at sea by bad direction and zero production values. Blackmer gets one nicely slimy, almost campy line, when he says, \"Orientals have a peculiar irresistible fascination for me,\" but despite the promise of the melodramatic title, this one will hold no one\\'s interest.',\n",
       " \"It is much too easy to fall into the post-World War Two media trap that the war was a man's war, and that women were just incidental to the effort. Thank goodness there are movies like this to remind Americans that the war was a total effort by almost everyone. In a real sense, women have not yet received full honor for their contribution to the war effort, whether they were ferrying planes, tending wounded, of carrying intelligence. In this film, one finds the horrors of war go beyond the battle lines into the minds of those who faced the reality of a world weary and frightened of war. This movie is also a reminder that most Americans during the war saw the fall of Bataan and the Phillippines as the major tragedy of the time. Pearl Harbor was frightening enough, but the very magnitude of defeat in the Pacific brought home the reality that there would be more casualties--if they could get off the island. It is difficult to find a Colbert movie of this period where she did not excel as a actress. This movie is no exception, she is extraordinary. Also, the evacuation scene is spectacular. If this movie did not inspire the Homefront to greater effort, what could? World War Two was everyone's war, and the peace would be everyone's peace.\"]"
      ]
     },
     "execution_count": 64,
     "metadata": {},
     "output_type": "execute_result"
    }
   ],
   "source": [
    "txt[:3]"
   ]
  },
  {
   "cell_type": "code",
   "execution_count": 65,
   "metadata": {
    "ExecuteTime": {
     "end_time": "2020-08-07T06:17:58.951738Z",
     "start_time": "2020-08-07T06:11:59.792872Z"
    },
    "hidden": true
   },
   "outputs": [],
   "source": [
    "# 8K vocab size\n",
    "encoder = tfds.features.text.SubwordTextEncoder.\\\n",
    "                build_from_corpus(txt, \n",
    "                                  target_vocab_size=2**13)"
   ]
  },
  {
   "cell_type": "code",
   "execution_count": 67,
   "metadata": {
    "ExecuteTime": {
     "end_time": "2020-08-07T06:18:37.402169Z",
     "start_time": "2020-08-07T06:18:37.394066Z"
    },
    "hidden": true
   },
   "outputs": [],
   "source": [
    "encoder.save_to_file(\"imdb\")"
   ]
  },
  {
   "cell_type": "markdown",
   "metadata": {},
   "source": [
    "# Tokenize and Vectorize Data"
   ]
  },
  {
   "cell_type": "code",
   "execution_count": 19,
   "metadata": {
    "ExecuteTime": {
     "end_time": "2020-08-15T06:47:10.976047Z",
     "start_time": "2020-08-15T06:47:10.921083Z"
    }
   },
   "outputs": [],
   "source": [
    "# load encoder\n",
    "imdb_encoder = tfds.features.text.SubwordTextEncoder.\\\n",
    "                load_from_file(\"imdb\")"
   ]
  },
  {
   "cell_type": "code",
   "execution_count": 20,
   "metadata": {
    "ExecuteTime": {
     "end_time": "2020-08-15T06:47:11.591740Z",
     "start_time": "2020-08-15T06:47:11.586027Z"
    }
   },
   "outputs": [
    {
     "data": {
      "text/plain": [
       "8266"
      ]
     },
     "execution_count": 20,
     "metadata": {},
     "output_type": "execute_result"
    }
   ],
   "source": [
    "imdb_encoder.vocab_size"
   ]
  },
  {
   "cell_type": "markdown",
   "metadata": {},
   "source": [
    "## Process Training Dataset"
   ]
  },
  {
   "cell_type": "code",
   "execution_count": 21,
   "metadata": {
    "ExecuteTime": {
     "end_time": "2020-08-15T06:47:17.397493Z",
     "start_time": "2020-08-15T06:47:12.798665Z"
    }
   },
   "outputs": [],
   "source": [
    "# remove markup\n",
    "cleaned_reviews = train_df.review.apply(lambda x: BeautifulSoup(x).text)"
   ]
  },
  {
   "cell_type": "code",
   "execution_count": 22,
   "metadata": {
    "ExecuteTime": {
     "end_time": "2020-08-15T06:47:17.464896Z",
     "start_time": "2020-08-15T06:47:17.416284Z"
    }
   },
   "outputs": [],
   "source": [
    "# convert pandas DF in to tf.Dataset\n",
    "train = tf.data.Dataset.from_tensor_slices((cleaned_reviews.values, \n",
    "                                            train_df.sentiment.values))"
   ]
  },
  {
   "cell_type": "code",
   "execution_count": 23,
   "metadata": {
    "ExecuteTime": {
     "end_time": "2020-08-15T06:47:17.501720Z",
     "start_time": "2020-08-15T06:47:17.484942Z"
    }
   },
   "outputs": [
    {
     "name": "stdout",
     "output_type": "stream",
     "text": [
      "b\"If you're in the mood for some dopey light entertainment, this will pass the time. If you expect one jot of plausibility, don't bother. To me, the dance scene looked like it was exaggerated for comic effect; it didn't look especially hot or skilled.\" 0\n",
      "b'*****Spoilers herein*****What really scares you? Killer sharks, or maybe ghosts trying to bring back a message? Maybe a chainsaw wielding psychopath?Maybe. But those fears don\\'t even compare to a horror which people dare not even speak of or consider--and that is the death of one\\'s own child. \"Pet Sematary\" taps this base, primal adult fear, and then takes it to places that most could not bear to explore.I\\'ve read comments about this film that include poor acting, characters making stupid decisions, etc. I disagree. The acting is actually first rate for a film like this. Maybe it is impossible for many to imagine the desperation resulting from such a scenario. But the film\\'s events are not only logical, they may be absolutely inevitable if such a scenario were possible. This is the true horror of \"Pet Sematary\": It isn\\'t that pets and people come back from the dead as evil killers who hunt with knives and scalpels, it is that anyone who has lost a child could become so desperate as to commit the crimes that Louis Creed does. Despite warning, or even past history.The movie takes those willing to go with it to the depths of a desperate human heart. The heart of a protector trying to make up for not being able to protect. And the results are horrifying. In fact, when the film dives into slasher territory near the end, it\\'s almost a letdown, although I believe it\\'s perfectly logical how it got there.I am a true horror fan, and I contend that this is one of the scariest horror films ever made. If you don\\'t think so, see it again after you have children.' 1\n"
     ]
    }
   ],
   "source": [
    "for review, senti in train.take(2):\n",
    "    print(review.numpy(), senti.numpy())"
   ]
  },
  {
   "cell_type": "code",
   "execution_count": 24,
   "metadata": {
    "ExecuteTime": {
     "end_time": "2020-08-15T06:47:17.539381Z",
     "start_time": "2020-08-15T06:47:17.524356Z"
    }
   },
   "outputs": [],
   "source": [
    "# transformation functions to be used with the dataset\n",
    "from tensorflow.keras.preprocessing import sequence\n",
    "\n",
    "def encode_pad_transform(sample):\n",
    "    encoded = imdb_encoder.encode(sample.numpy())\n",
    "    pad = sequence.pad_sequences([encoded], padding='post', \n",
    "                                 maxlen=150)\n",
    "    return np.array(pad[0], dtype=np.int64)  \n",
    "\n",
    "\n",
    "def encode_tf_fn(sample, label):\n",
    "    encoded = tf.py_function(encode_pad_transform, \n",
    "                                       inp=[sample], \n",
    "                                       Tout=(tf.int64))\n",
    "    encoded.set_shape([None])\n",
    "    label.set_shape([])\n",
    "    return encoded, label"
   ]
  },
  {
   "cell_type": "code",
   "execution_count": 25,
   "metadata": {
    "ExecuteTime": {
     "end_time": "2020-08-15T06:47:17.651893Z",
     "start_time": "2020-08-15T06:47:17.560136Z"
    }
   },
   "outputs": [],
   "source": [
    "# test the transformation on a small subset\n",
    "subset = train.take(10)\n",
    "tst = subset.map(encode_tf_fn)"
   ]
  },
  {
   "cell_type": "code",
   "execution_count": 26,
   "metadata": {
    "ExecuteTime": {
     "end_time": "2020-08-15T06:47:18.317584Z",
     "start_time": "2020-08-15T06:47:17.671964Z"
    }
   },
   "outputs": [
    {
     "name": "stdout",
     "output_type": "stream",
     "text": [
      "[ 152  147 8049  175   10    1 3654   20   58  411 1484   46 1076 3065\n",
      "    2   13   92 3464    1  161    3  152   32  843   41 1950   18    6\n",
      " 2456 2397 5250  898    2  100 8049   18 3307  154    3  536  214    2\n",
      "    1 2294  204  821   48   14   15 6761   34   20 1224 5416  135   14\n",
      "  192 8049   18  227  343 2198   45 2970   93 8056    0    0    0    0\n",
      "    0    0    0    0    0    0    0    0    0    0    0    0    0    0\n",
      "    0    0    0    0    0    0    0    0    0    0    0    0    0    0\n",
      "    0    0    0    0    0    0    0    0    0    0    0    0    0    0\n",
      "    0    0    0    0    0    0    0    0    0    0    0    0    0    0\n",
      "    0    0    0    0    0    0    0    0    0    0    0    0    0    0\n",
      "    0    0    0    0    0    0    0    0    0    0] 0\n",
      "If you're in the mood for some dopey light entertainment, this will pass the time. If you expect one jot of plausibility, don't bother. To me, the dance scene looked like it was exaggerated for comic effect; it didn't look especially hot or skilled.\n"
     ]
    }
   ],
   "source": [
    "for review, label in tst.take(1):\n",
    "    print(review.numpy(), label.numpy())\n",
    "    print(imdb_encoder.decode(review))"
   ]
  },
  {
   "cell_type": "code",
   "execution_count": 27,
   "metadata": {
    "ExecuteTime": {
     "end_time": "2020-08-15T06:47:18.348511Z",
     "start_time": "2020-08-15T06:47:18.339912Z"
    }
   },
   "outputs": [],
   "source": [
    "encoded_train = train.map(encode_tf_fn,\n",
    "                        num_parallel_calls=tf.data.experimental.AUTOTUNE)"
   ]
  },
  {
   "cell_type": "markdown",
   "metadata": {},
   "source": [
    "## Process Testing Dataset"
   ]
  },
  {
   "cell_type": "code",
   "execution_count": 94,
   "metadata": {
    "ExecuteTime": {
     "end_time": "2020-08-15T08:51:35.067989Z",
     "start_time": "2020-08-15T08:51:29.881589Z"
    }
   },
   "outputs": [],
   "source": [
    "# remove markup\n",
    "cleaned_reviews = test_df.review.apply(lambda x: BeautifulSoup(x).text)"
   ]
  },
  {
   "cell_type": "code",
   "execution_count": 95,
   "metadata": {
    "ExecuteTime": {
     "end_time": "2020-08-15T08:51:35.165524Z",
     "start_time": "2020-08-15T08:51:35.122571Z"
    }
   },
   "outputs": [],
   "source": [
    "# convert pandas DF in to tf.Dataset\n",
    "test = tf.data.Dataset.from_tensor_slices((cleaned_reviews.values, \n",
    "                                            test_df.sentiment.values))"
   ]
  },
  {
   "cell_type": "code",
   "execution_count": 96,
   "metadata": {
    "ExecuteTime": {
     "end_time": "2020-08-15T08:51:36.427785Z",
     "start_time": "2020-08-15T08:51:36.411120Z"
    }
   },
   "outputs": [],
   "source": [
    "encoded_test = test.map(encode_tf_fn,\n",
    "                        num_parallel_calls=tf.data.experimental.AUTOTUNE)"
   ]
  },
  {
   "cell_type": "markdown",
   "metadata": {},
   "source": [
    "# Baseline model"
   ]
  },
  {
   "cell_type": "code",
   "execution_count": 73,
   "metadata": {
    "ExecuteTime": {
     "end_time": "2020-08-10T07:58:27.251944Z",
     "start_time": "2020-08-10T07:58:27.246724Z"
    }
   },
   "outputs": [],
   "source": [
    "# Length of the vocabulary \n",
    "vocab_size = imdb_encoder.vocab_size \n",
    "\n",
    "# Number of RNN units\n",
    "rnn_units = 64\n",
    "\n",
    "# Embedding size\n",
    "embedding_dim = 64\n",
    "\n",
    "#batch size\n",
    "BATCH_SIZE=100"
   ]
  },
  {
   "cell_type": "code",
   "execution_count": 72,
   "metadata": {
    "ExecuteTime": {
     "end_time": "2020-08-15T07:05:02.269554Z",
     "start_time": "2020-08-15T07:05:02.256078Z"
    }
   },
   "outputs": [],
   "source": [
    "from tensorflow.keras.layers import Embedding, LSTM, \\\n",
    "                                    Bidirectional, Dense,\\\n",
    "                                    Dropout\n",
    "            \n",
    "\n",
    "dropout=0.2\n",
    "def build_model_bilstm(vocab_size, embedding_dim, rnn_units, batch_size):\n",
    "  model = tf.keras.Sequential([\n",
    "    Embedding(vocab_size, embedding_dim, mask_zero=True,\n",
    "                              batch_input_shape=[batch_size, None]),\n",
    "    Bidirectional(LSTM(rnn_units, return_sequences=True, \n",
    "                      dropout=dropout)),\n",
    "    Dropout(dropout),\n",
    "    Bidirectional(tf.keras.layers.LSTM(rnn_units, dropout=dropout)),\n",
    "    Dropout(dropout),\n",
    "    Dense(1, activation='sigmoid')\n",
    "  ])\n",
    "  return model"
   ]
  },
  {
   "cell_type": "code",
   "execution_count": 100,
   "metadata": {
    "ExecuteTime": {
     "end_time": "2020-08-15T09:33:40.224023Z",
     "start_time": "2020-08-15T09:33:37.703107Z"
    }
   },
   "outputs": [
    {
     "name": "stdout",
     "output_type": "stream",
     "text": [
      "Model: \"sequential_3\"\n",
      "_________________________________________________________________\n",
      "Layer (type)                 Output Shape              Param #   \n",
      "=================================================================\n",
      "embedding_3 (Embedding)      (100, None, 64)           529024    \n",
      "_________________________________________________________________\n",
      "bidirectional_6 (Bidirection (100, None, 128)          66048     \n",
      "_________________________________________________________________\n",
      "dropout_6 (Dropout)          (100, None, 128)          0         \n",
      "_________________________________________________________________\n",
      "bidirectional_7 (Bidirection (100, 128)                98816     \n",
      "_________________________________________________________________\n",
      "dropout_7 (Dropout)          (100, 128)                0         \n",
      "_________________________________________________________________\n",
      "dense_3 (Dense)              (100, 1)                  129       \n",
      "=================================================================\n",
      "Total params: 694,017\n",
      "Trainable params: 694,017\n",
      "Non-trainable params: 0\n",
      "_________________________________________________________________\n"
     ]
    }
   ],
   "source": [
    "bilstm = build_model_bilstm(\n",
    "  vocab_size = vocab_size,\n",
    "  embedding_dim=embedding_dim,\n",
    "  rnn_units=rnn_units,\n",
    "  batch_size=BATCH_SIZE)\n",
    "\n",
    "bilstm.summary()"
   ]
  },
  {
   "cell_type": "code",
   "execution_count": 101,
   "metadata": {
    "ExecuteTime": {
     "end_time": "2020-08-15T09:33:40.416466Z",
     "start_time": "2020-08-15T09:33:40.277690Z"
    }
   },
   "outputs": [],
   "source": [
    "bilstm.compile(loss='binary_crossentropy', \n",
    "             optimizer='adam', \n",
    "             metrics=['accuracy', 'Precision', 'Recall'])"
   ]
  },
  {
   "cell_type": "code",
   "execution_count": 102,
   "metadata": {
    "ExecuteTime": {
     "end_time": "2020-08-15T09:33:42.146388Z",
     "start_time": "2020-08-15T09:33:42.140569Z"
    }
   },
   "outputs": [],
   "source": [
    "encoded_train_batched = encoded_train.batch(BATCH_SIZE).shuffle(25000)"
   ]
  },
  {
   "cell_type": "code",
   "execution_count": 103,
   "metadata": {
    "ExecuteTime": {
     "end_time": "2020-08-15T09:46:30.106517Z",
     "start_time": "2020-08-15T09:33:44.642603Z"
    },
    "scrolled": true
   },
   "outputs": [
    {
     "name": "stdout",
     "output_type": "stream",
     "text": [
      "Train for 250 steps\n",
      "Epoch 1/15\n",
      "250/250 [==============================] - 61s 245ms/step - loss: 0.4527 - accuracy: 0.7757 - Precision: 0.7914 - Recall: 0.7487\n",
      "Epoch 2/15\n",
      "250/250 [==============================] - 50s 202ms/step - loss: 0.2774 - accuracy: 0.8876 - Precision: 0.8870 - Recall: 0.8883\n",
      "Epoch 3/15\n",
      "250/250 [==============================] - 50s 201ms/step - loss: 0.2032 - accuracy: 0.9224 - Precision: 0.9222 - Recall: 0.9226\n",
      "Epoch 4/15\n",
      "250/250 [==============================] - 50s 202ms/step - loss: 0.1474 - accuracy: 0.9449 - Precision: 0.9452 - Recall: 0.9445\n",
      "Epoch 5/15\n",
      "250/250 [==============================] - 50s 201ms/step - loss: 0.0936 - accuracy: 0.9675 - Precision: 0.9691 - Recall: 0.9658\n",
      "Epoch 6/15\n",
      "250/250 [==============================] - 50s 201ms/step - loss: 0.0631 - accuracy: 0.9784 - Precision: 0.9785 - Recall: 0.9784\n",
      "Epoch 7/15\n",
      "250/250 [==============================] - 50s 201ms/step - loss: 0.0488 - accuracy: 0.9832 - Precision: 0.9839 - Recall: 0.9824\n",
      "Epoch 8/15\n",
      "250/250 [==============================] - 50s 202ms/step - loss: 0.0314 - accuracy: 0.9902 - Precision: 0.9906 - Recall: 0.9899\n",
      "Epoch 9/15\n",
      "250/250 [==============================] - 50s 201ms/step - loss: 0.0266 - accuracy: 0.9903 - Precision: 0.9911 - Recall: 0.9894\n",
      "Epoch 10/15\n",
      "250/250 [==============================] - 50s 200ms/step - loss: 0.0287 - accuracy: 0.9900 - Precision: 0.9901 - Recall: 0.9899\n",
      "Epoch 11/15\n",
      "250/250 [==============================] - 50s 201ms/step - loss: 0.0218 - accuracy: 0.9924 - Precision: 0.9923 - Recall: 0.9924\n",
      "Epoch 12/15\n",
      "250/250 [==============================] - 50s 199ms/step - loss: 0.0148 - accuracy: 0.9951 - Precision: 0.9950 - Recall: 0.9952\n",
      "Epoch 13/15\n",
      "250/250 [==============================] - 50s 202ms/step - loss: 0.0181 - accuracy: 0.9940 - Precision: 0.9937 - Recall: 0.9942\n",
      "Epoch 14/15\n",
      "250/250 [==============================] - 50s 201ms/step - loss: 0.0244 - accuracy: 0.9918 - Precision: 0.9913 - Recall: 0.9922\n",
      "Epoch 15/15\n",
      "250/250 [==============================] - 50s 201ms/step - loss: 0.0176 - accuracy: 0.9941 - Precision: 0.9939 - Recall: 0.9942\n"
     ]
    },
    {
     "data": {
      "text/plain": [
       "<tensorflow.python.keras.callbacks.History at 0x7f5ecd6774d0>"
      ]
     },
     "execution_count": 103,
     "metadata": {},
     "output_type": "execute_result"
    }
   ],
   "source": [
    "bilstm.fit(encoded_train_batched, epochs=15)"
   ]
  },
  {
   "cell_type": "code",
   "execution_count": 117,
   "metadata": {
    "ExecuteTime": {
     "end_time": "2020-08-16T07:09:13.315662Z",
     "start_time": "2020-08-16T07:08:40.220107Z"
    }
   },
   "outputs": [
    {
     "name": "stdout",
     "output_type": "stream",
     "text": [
      "250/250 [==============================] - 33s 132ms/step - loss: 1.0778 - accuracy: 0.8148 - Precision: 0.8135 - Recall: 0.8170\n"
     ]
    },
    {
     "data": {
      "text/plain": [
       "[1.077811143040657, 0.81484, 0.8135107, 0.81696]"
      ]
     },
     "execution_count": 117,
     "metadata": {},
     "output_type": "execute_result"
    }
   ],
   "source": [
    "bilstm.evaluate(encoded_test.batch(BATCH_SIZE))"
   ]
  },
  {
   "cell_type": "markdown",
   "metadata": {},
   "source": [
    "# Snorkel Labelling"
   ]
  },
  {
   "cell_type": "markdown",
   "metadata": {},
   "source": [
    "## Creating Labeling Functions"
   ]
  },
  {
   "cell_type": "code",
   "execution_count": 31,
   "metadata": {
    "ExecuteTime": {
     "end_time": "2020-08-15T06:47:25.798710Z",
     "start_time": "2020-08-15T06:47:25.794270Z"
    }
   },
   "outputs": [],
   "source": [
    "POSITIVE = 1\n",
    "NEGATIVE = 0\n",
    "ABSTAIN = -1"
   ]
  },
  {
   "cell_type": "code",
   "execution_count": 32,
   "metadata": {
    "ExecuteTime": {
     "end_time": "2020-08-15T06:47:26.987671Z",
     "start_time": "2020-08-15T06:47:26.771343Z"
    }
   },
   "outputs": [],
   "source": [
    "from snorkel.labeling.lf import labeling_function"
   ]
  },
  {
   "cell_type": "code",
   "execution_count": 33,
   "metadata": {
    "ExecuteTime": {
     "end_time": "2020-08-15T06:47:27.660271Z",
     "start_time": "2020-08-15T06:47:27.652984Z"
    }
   },
   "outputs": [],
   "source": [
    "@labeling_function()\n",
    "def time_waste(x):\n",
    "    if not isinstance(x.review, str):\n",
    "        return ABSTAIN\n",
    "    ex1 = \"time waste\"\n",
    "    ex2 = \"waste of time\"\n",
    "    if ex1 in x.review.lower() or ex2 in x.review.lower():\n",
    "        return NEGATIVE\n",
    "    return ABSTAIN"
   ]
  },
  {
   "cell_type": "code",
   "execution_count": 34,
   "metadata": {
    "ExecuteTime": {
     "end_time": "2020-08-15T06:47:29.692040Z",
     "start_time": "2020-08-15T06:47:29.689064Z"
    }
   },
   "outputs": [],
   "source": [
    "# Now lets print some reviews with positive and negative labels to\n",
    "# get ideas for labelling functions"
   ]
  },
  {
   "cell_type": "code",
   "execution_count": 35,
   "metadata": {
    "ExecuteTime": {
     "end_time": "2020-08-15T06:47:30.733576Z",
     "start_time": "2020-08-15T06:47:30.723336Z"
    }
   },
   "outputs": [],
   "source": [
    "neg = train_df[train_df.sentiment==0].sample(n=5, random_state=42)"
   ]
  },
  {
   "cell_type": "code",
   "execution_count": 36,
   "metadata": {
    "ExecuteTime": {
     "end_time": "2020-08-15T06:47:31.896785Z",
     "start_time": "2020-08-15T06:47:31.891238Z"
    }
   },
   "outputs": [
    {
     "name": "stdout",
     "output_type": "stream",
     "text": [
      "A very cheesy and dull road movie, with the intention to be hip and modern, shown in the editing style and some weird camera angles, resulting only in sleepiness. <br /><br />The cast is wasted, the writing is stupid and pretentious. The only thing worthwhile is the top-notch Lalo Schifrin's soundtrack, really cool and also the opening sequence, very original and interesting. <br /><br />Run if you can, the bad opinions and comments about this flick are totally deserved; it is really pure garbage. Of course that this has its charm, of watching a movie which everybody would not drop the beer glass on if it were on fire, but save it for a stormy day where you have absolutely nothing else to do.\n",
      "!!!! POSSIBLE MILD SPOILER !!!!!<br /><br />As I watched the first half of GUILTY AS SIN I couldn`t believe it was made in 1993 because it played like a JAGGED EDGE / Joe Eszterhas clone from the mid 80s . It starts with a murder and it`s left for the audience to muse \" Is he guilty or innocent and will he go to bed with his attorney ? \" , but halfway through the film shows its early 90s credentials by turning into a \" Lawyer gets manipulated and stalked by her client \" type film which ends in a ridiculous manner , and GUILTY AS SIN has an even more ridiculous ending in this respect .<br /><br />This is a very poor thriller but the most unforgivable thing about it is that it was directed by Sidney Lumet the same man who brought us the all time classic court room drama 12 ANGRY MEN\n",
      "I work at a Blockbuster store and every week we have movies that come in with just a few copies, these are the kind of movies that the Sci-Fi channel shows. The kind of movie that nobody ever wants, and only that idiots rent, when they bring it back I ask them \"was it any good?\", they say \"no we turned it off after 15 minutes!\" Movies with terrible computer generated, super imposed monsters and such like, very unappealing.<br /><br />This is the same type of movie that Grendel is, and absolute waste of time, if you want a reasonably (and only reasonably) good Beowulf based movie then try Beowulf & Grendel , starring Gerard Butler, who is also starring in the eagerly anticipated 300, as King Leonidas of Sparta.<br /><br />Plus, later this year we have another Beowulf movie, with a star studded cast ranging from Anthony Hopkins and Brendan Gleeson, to Angelina Jolie and John Malkovich.<br /><br />But don't let that get your hopes up like we all did with Eragon, or we are all in for another big disappointment.<br /><br />And regarding rentals, here is my rule of thumb: If there is only one or two copies, don't rent it because its a load of crap.( This is true 99.9% of the time, usually not true if the title is foreign, or a documentary.)\n",
      "Having low expectations going in, the opening new footage (clocked at over five minutes) of 'Husbands' came as a pleasant surprise. I won't say the new footage was grade A material, but it provided a very solid foundation for what \"could have been\" a good all-original film.<br /><br />Unfortunately, this was put together in 1955, during a time of one day shooting schedules. After the new footage, Jules White decided to just thumbtack stock footage from 'Brideless Groom' into this short, making for a not-so-smooth story transition, which Jules and Felix Adler try to remedy with a quickie bit of new footage at the end, giving us the old, worn-out ending of the boys (Moe & Larry in this case) getting shot in the butt.<br /><br />3/10\n",
      "Freddy's Dead: The Final Nightmare, the sixth installment of the Nightmare on Elm Street series and once again another bad sequel. I think this is tied up with the last sequel of the Dream Child. I was lucky enough to get the Nightmare on Elm Street series box DVD set for my birthday, so I got to see all the sequels. May I say that I'm just getting more and more disappointed though with these sequels, at least the past two, it just seems like Freddy lost his edge. It's almost like the writers were trying to give Freddy a soul and they're just destroying it instead of reinventing the story. This was a sequel that wasn't needed, sorry to Robert Englund, but this was very much below what Freddy Krueger represents.<br /><br />Freddy is back, but he's got something we don't know about, a daughter. Maggie, she's not aware that he is her father, but soon she finds out what his dark secrets are and he wants her help. She has to do her best to resist his powers, but it's hard with all the good memories she has of her loving father. Ironic, isn't it? But Freddy isn't giving up without manipulating her into his ways.<br /><br />Freddy's Dead: The Final Nightmare is also presented in 3-D, radical, huh? Note the sarcasm. This is one of the worst sequels, it's tied up with the fifth sequel of the Nightmare on Elm Street series, I'd rather watch the second Nightmare on Elm Street to be honest. This just had bad acting, stupid editing, and just over all a bad idea for a story. I didn't like the concept of it and it just ruined the whole idea of who Freddy Krueger really is, the death master of nightmares, not Father Knows Best.<br /><br />2/10\n"
     ]
    }
   ],
   "source": [
    "for x in neg.review.tolist():\n",
    "    print( x)"
   ]
  },
  {
   "cell_type": "code",
   "execution_count": 37,
   "metadata": {
    "ExecuteTime": {
     "end_time": "2020-08-15T06:47:33.239984Z",
     "start_time": "2020-08-15T06:47:33.131011Z"
    }
   },
   "outputs": [],
   "source": [
    "@labeling_function()\n",
    "def atrocious(x):\n",
    "    if not isinstance(x.review, str):\n",
    "        return ABSTAIN\n",
    "    ex1 = \"atrocious\"\n",
    "    if ex1 in x.review.lower():\n",
    "        return NEGATIVE\n",
    "    return ABSTAIN\n",
    "\n",
    "@labeling_function()\n",
    "def crap(x):\n",
    "    if not isinstance(x.review, str):\n",
    "        return ABSTAIN\n",
    "    ex1 = \"crap\"\n",
    "    if ex1 in x.review.lower():\n",
    "        return NEGATIVE\n",
    "    return ABSTAIN\n",
    "\n",
    "@labeling_function()\n",
    "def garbage(x):\n",
    "    if not isinstance(x.review, str):\n",
    "        return ABSTAIN\n",
    "    ex1 = \"garbage\"\n",
    "    if ex1 in x.review.lower():\n",
    "        return NEGATIVE\n",
    "    return ABSTAIN\n",
    "\n",
    "\n",
    "@labeling_function()\n",
    "def terrible(x):\n",
    "    if not isinstance(x.review, str):\n",
    "        return ABSTAIN\n",
    "    ex1 = \"terrible\"\n",
    "    if ex1 in x.review.lower():\n",
    "        return NEGATIVE\n",
    "    return ABSTAIN\n",
    "\n",
    "@labeling_function()\n",
    "def piece_of(x):\n",
    "    if not isinstance(x.review, str):\n",
    "        return ABSTAIN\n",
    "    ex1 = {\"piece\", \"of\", \"junk\"}\n",
    "    st_rvw = set(x.review.lower().split())\n",
    "    if st_rvw.issuperset(ex1):\n",
    "        return NEGATIVE\n",
    "    return ABSTAIN\n",
    "\n",
    "@labeling_function()\n",
    "def woefully_miscast(x):\n",
    "    if not isinstance(x.review, str):\n",
    "        return ABSTAIN\n",
    "    ex1 = \"woeful\"\n",
    "    ex2 = \"miscast\"\n",
    "    if ex1 in x.review.lower() or ex2 in x.review.lower():\n",
    "        return NEGATIVE\n",
    "    return ABSTAIN\n",
    "\n",
    "@labeling_function()\n",
    "def bad_acting(x):\n",
    "    if not isinstance(x.review, str):\n",
    "        return ABSTAIN\n",
    "    ex1 = \"bad\"\n",
    "    ex2 = \"acting\"\n",
    "    if ex1 in x.review.lower() and ex2 in x.review.lower():\n",
    "        return NEGATIVE\n",
    "    return ABSTAIN\n",
    "\n",
    "@labeling_function()\n",
    "def cheesy_dull(x):\n",
    "    if not isinstance(x.review, str):\n",
    "        return ABSTAIN\n",
    "    ex1 = \"cheesy\"\n",
    "    ex2 = \"dull\"\n",
    "    if ex1 in x.review.lower() or ex2 in x.review.lower():\n",
    "        return NEGATIVE\n",
    "    return ABSTAIN\n",
    "    \n",
    "@labeling_function()\n",
    "def disappoint(x):\n",
    "    if not isinstance(x.review, str):\n",
    "        return ABSTAIN\n",
    "    ex1 = \"disappoint\"\n",
    "    if ex1 in x.review.lower():\n",
    "        return NEGATIVE\n",
    "    return ABSTAIN\n",
    "\n",
    "@labeling_function()\n",
    "def unsatisfied(x):\n",
    "    if not isinstance(x.review, str):\n",
    "        return ABSTAIN\n",
    "    ex1 = \"unsatisf\"  # unsatisfactory, unsatisfied\n",
    "    if ex1 in x.review.lower():\n",
    "        return NEGATIVE\n",
    "    return ABSTAIN\n",
    "\n",
    "@labeling_function()\n",
    "def ridiculous(x):\n",
    "    if not isinstance(x.review, str):\n",
    "        return ABSTAIN\n",
    "    ex1 = \"ridiculous\"  \n",
    "    if ex1 in x.review.lower():\n",
    "        return NEGATIVE\n",
    "    return ABSTAIN\n",
    "\n",
    "neg_lfs = [atrocious, terrible, piece_of, woefully_miscast, bad_acting,\n",
    "          cheesy_dull, disappoint, crap, garbage, unsatisfied,\n",
    "          ridiculous]"
   ]
  },
  {
   "cell_type": "code",
   "execution_count": 38,
   "metadata": {
    "ExecuteTime": {
     "end_time": "2020-08-15T06:47:34.449860Z",
     "start_time": "2020-08-15T06:47:34.437129Z"
    }
   },
   "outputs": [
    {
     "name": "stdout",
     "output_type": "stream",
     "text": [
      "This is the first Tom Hanks movie I have gotten the privilege of seeing in the theater, although he is my favorite. When I heard he was going to play a hit-man, I was a little stunned thinking \"can Mr. Hanks pull this one off\"? And he did in high fashion. This 1930's depression era film is a about loyalty, redemption, and one path that you don't want your children stumbling down. Tom Hanks leads a stellar cast as Michael Sullivan. Being the family man, and the secret life of the contract killer for the Oscar nominated Paul Newman. This movie Tom Hanks relies more on reaction and gaze rather than dialogue, which he delivers a knockout performance.<br /><br />On one night of one of his jobs, Michael's son Michael Jr., played by newcomer Tyler Hoechlin, witnesses the hit. And Michael Sr.'s partner in crime, fellow stage actor Daniel Craig can't have that information out. So he wacks out the son and wife of Michael Sr., except Michael Jr. So the two head for Chicago to get Conner Rooney(son of Paul Newman's Mr. Rooney).<br /><br />The drama and intense plot really thickens from their as father trys to set things right, even though son is along for the ride. While on this deadly journey, someone has hired a hit for Michael Sr. The assassin would be the photographer of the deceased Harlen Maguire, played by a stain-teethed Jude Law.<br /><br />The movie will have you feeling the old days. And with Thomas Newman's beautiful and haunting Oscar nominated score to go along with it, you can't help but appreciate this film from Oscar winning director Sam Mendes. So sit back, and enjoy the wild ride.\n",
      "If you know the story of Grey Owl, you'll love the movie! Annie Galipeau is a great actress, and Pierce is better than never in Grey Owl. But in this movie there's no real scene of action. I think this movie should be nominated at the Oscars! Welll go see this movie, it's A CLASSIC!\n",
      "I can't believe John died! While filming an episode he collapsed on set! read this, (out of his biography online):John Ritter was Born In Burbank , Calafornia , On September 17th 1948. <br /><br />He landed his last television role in \"8 Simple Rules for Dating My Teenage Daughter\" (2002), based on the popular book. On this sitcom, he played Paul Hennessey, a loving, yet rational dad, who laid down the ground rules for his three children. The show was a ratings winner in its first season and won a Peoples Choice Award for Best New Comedy and also won for Favorite Comedy Series by the Family Awards! While working \"8 Simple Rules\", he also starred in his second-to-last film, Manhood (2003)<br /><br />That Same Year , While John Was Rehearsing for The 4th (3rd series) Episode of 8 Simple Rules (Now Shortened), he fell ill. Henry Winkler described it as \"John Looked Like He Had Food Poisoning\".Then He collapsed on the Set, he was quickly rushed to a Nearby Hospital, The Same Burbank Hospital Where He Was Born ,he was diagnosed with an aorta dissection, an Unrecognized Heart Flaw, he Underwent Surgery but did not make it. John Ritter Died At Age 54 , just 1 Week Away from His 55th Birthday , leaving His Wife Amy Yasbeck and 4 Children.\n",
      "I only know of one other movie that could possibly compete with Opening Night and that's Bergman';s Persona. Both movies are simply amazing, they have a richness of ideas hard to grasp at first sight. We have a profound meditation on the relation of art and life as one actress, Myrtle Gordon (Gena Rowlands), finds herself more in touch with the character she is playing on stage than she would want to. The accidental death of one of her fans, a young girl that declares her love for Myrtle and she is then hit by a car, leaves a deep mark in the actress. She starts asking herself question related to her aging that starts to affect her until the only solution becomes alcohol. But that doesn't help to much and Myrtle is one step away from complete madness. The scene where she kill the imaginary (or not) spirit of the dead girl is one of the most thrilling scenes I found in a Cassavets film. The movie ends with a display of genius on behalf of the director as he films a theater scene where he himself and Gena Rowlands improvise a scene, since Myrtle comes too drunk to the opening night to perform her part accurately. This scene was filmed spontaneously, with a live audience, the laughter is genuine, the chemistry between Casavates and Rowlands absolutely amazing. If you liked Persona or are interested in a movie that offers substantial ideas alongside great entertainment this movie will suit you just fine.\n",
      "In 1990 Brad Pitt and Juiliette Lewis did a TV Too Young To Die where both played the almost the same kind of parts that they do in Kalifornia. I have no doubt that is what led to their casting in this big screen film.<br /><br />Kalifornia finds aspiring writer David Duchovny and his girl friend, art photographer Michelle Forbes on a rocky relationship of sorts due to Duchovny's obsession with writing a book and getting in the minds and souls of serial killers. In fact he's got a most unusual odyssey planned, he wants to go cross country and visit the sites of several famous serial killers. But he and Forbes are flat broke.<br /><br />Fate intervenes in more ways than financial with the arrival of Brad Pitt and Juliette Lewis a pair of strange southern types who agree to split the cost of gas on this cross country trip. It turns out Pitt is a serial killer himself and he decides to do a little research on his own, delving into the mind of someone who is fascinated with amorality.<br /><br />Kalifornia is not the type of film I usually go for, but in fact the acting ability and charisma of Brad Pitt make it work to a large degree. Pitt is the walking definition of an inbred Gothic refugee from Deliverance. But better than he is is Juliette Lewis who once again is playing these low self esteem types which she seems to do well. Watch her scene with Forbes as she does her hair and Lewis describes her sad and pathetic life. Lewis's dialog and Forbes's reactions ought to be shown in acting classes around the country.<br /><br />For those who like their slasher flicks, they don't come better than Kalifornia.\n"
     ]
    }
   ],
   "source": [
    "# Now lets try some positive examples\n",
    "pos = train_df[train_df.sentiment==1].sample(n=5, random_state=42)\n",
    "for x in pos.review.tolist():\n",
    "    print(x)"
   ]
  },
  {
   "cell_type": "code",
   "execution_count": 39,
   "metadata": {
    "ExecuteTime": {
     "end_time": "2020-08-15T06:47:35.591635Z",
     "start_time": "2020-08-15T06:47:35.560390Z"
    }
   },
   "outputs": [],
   "source": [
    "import re\n",
    "\n",
    "@labeling_function()\n",
    "def classic(x):\n",
    "    if not isinstance(x.review, str):\n",
    "        return ABSTAIN\n",
    "    ex1 = \"a classic\"\n",
    "    if ex1 in x.review.lower():\n",
    "        return POSITIVE\n",
    "    return ABSTAIN\n",
    "\n",
    "@labeling_function()\n",
    "def must_watch(x):\n",
    "    if not isinstance(x.review, str):\n",
    "        return ABSTAIN\n",
    "    ex1 = \"must watch\"\n",
    "    if ex1 in x.review.lower():\n",
    "        return POSITIVE\n",
    "    return ABSTAIN\n",
    "\n",
    "@labeling_function()\n",
    "def oscar(x):\n",
    "    if not isinstance(x.review, str):\n",
    "        return ABSTAIN\n",
    "    ex1 = \"oscar nominated\"\n",
    "    if ex1 in x.review.lower() :\n",
    "        return POSITIVE\n",
    "    return ABSTAIN\n",
    "\n",
    "@labeling_function()\n",
    "def love(x):\n",
    "    if not isinstance(x.review, str):\n",
    "        return ABSTAIN\n",
    "    st_rvw = set(x.review.lower().split())\n",
    "    ex1 = {\"love\", \"the\", \"movie\"}\n",
    "    if st_rvw.issuperset(ex1) :\n",
    "        return POSITIVE\n",
    "    return ABSTAIN\n",
    "\n",
    "@labeling_function()\n",
    "def great_entertainment(x):\n",
    "    if not isinstance(x.review, str):\n",
    "        return ABSTAIN\n",
    "    st_rvw = set(x.review.lower().split())\n",
    "    ex1 = {\"great\", \"entertainment\"}\n",
    "    if st_rvw.issuperset(ex1) :\n",
    "        return POSITIVE\n",
    "    return ABSTAIN\n",
    "\n",
    "@labeling_function()\n",
    "def very_entertaining(x):\n",
    "    if not isinstance(x.review, str):\n",
    "        return ABSTAIN\n",
    "    ex1 = \"very entertaining\"\n",
    "    if ex1 in x.review.lower() :\n",
    "        return POSITIVE\n",
    "    return ABSTAIN\n",
    "\n",
    "@labeling_function()\n",
    "def amazing(x):\n",
    "    if not isinstance(x.review, str):\n",
    "        return ABSTAIN\n",
    "    ex1 = \"amazing\"\n",
    "    if ex1 in x.review.lower():\n",
    "        return POSITIVE\n",
    "    return ABSTAIN\n",
    "\n",
    "@labeling_function()\n",
    "def brilliant(x):\n",
    "    if not isinstance(x.review, str):\n",
    "        return ABSTAIN\n",
    "    ex1 = \"brillant\"\n",
    "    if ex1 in x.review.lower():\n",
    "        return POSITIVE\n",
    "    return ABSTAIN\n",
    "\n",
    "@labeling_function()\n",
    "def fantastic(x):\n",
    "    if not isinstance(x.review, str):\n",
    "        return ABSTAIN\n",
    "    ex1 = \"fantastic\"\n",
    "    if ex1 in x.review.lower():\n",
    "        return POSITIVE\n",
    "    return ABSTAIN\n",
    "\n",
    "@labeling_function()\n",
    "def awesome(x):\n",
    "    if not isinstance(x.review, str):\n",
    "        return ABSTAIN\n",
    "    ex1 = \"awesome\"\n",
    "    if ex1 in x.review.lower():\n",
    "        return POSITIVE\n",
    "    return ABSTAIN\n",
    "\n",
    "@labeling_function()\n",
    "def great_acting(x):\n",
    "    if not isinstance(x.review, str):\n",
    "        return ABSTAIN\n",
    "    ex1 = \"(great|awesome|amazing|fantastic|excellent) act\"\n",
    "    if re.search(ex1, x.review.lower()):\n",
    "        return POSITIVE\n",
    "    return ABSTAIN\n",
    "\n",
    "@labeling_function()\n",
    "def great_direction(x):\n",
    "    if not isinstance(x.review, str):\n",
    "        return ABSTAIN\n",
    "    ex1 = \"(great|awesome|amazing|fantastic|excellent) direction\"\n",
    "    if re.search(ex1, x.review.lower()):\n",
    "        return POSITIVE\n",
    "    return ABSTAIN\n",
    "\n",
    "@labeling_function()\n",
    "def great_story(x):\n",
    "    if not isinstance(x.review, str):\n",
    "        return ABSTAIN\n",
    "    ex1 = \"(great|awesome|amazing|fantastic|excellent|dramatic) (script|story)\"\n",
    "    if re.search(ex1, x.review.lower()):\n",
    "        return POSITIVE\n",
    "    return ABSTAIN\n",
    "\n",
    "@labeling_function()\n",
    "def favourite(x):\n",
    "    if not isinstance(x.review, str):\n",
    "        return ABSTAIN\n",
    "    ex1 = \"my favourite\"\n",
    "    if ex1 in x.review.lower():\n",
    "        return POSITIVE\n",
    "    return ABSTAIN\n",
    "\n",
    "pos_lfs = [classic, must_watch, oscar, love, great_entertainment,  \n",
    "           very_entertaining, amazing, brilliant, fantastic, awesome, \n",
    "           great_acting, great_direction, great_story, favourite]"
   ]
  },
  {
   "cell_type": "code",
   "execution_count": 40,
   "metadata": {
    "ExecuteTime": {
     "end_time": "2020-08-15T06:47:36.288181Z",
     "start_time": "2020-08-15T06:47:35.822953Z"
    }
   },
   "outputs": [],
   "source": [
    "from snorkel.labeling.model import LabelModel\n",
    "from snorkel.labeling import PandasLFApplier"
   ]
  },
  {
   "cell_type": "code",
   "execution_count": 41,
   "metadata": {
    "ExecuteTime": {
     "end_time": "2020-08-15T06:47:36.751232Z",
     "start_time": "2020-08-15T06:47:36.747349Z"
    }
   },
   "outputs": [],
   "source": [
    "# set of labeling functions\n",
    "lfs = neg_lfs + pos_lfs"
   ]
  },
  {
   "cell_type": "markdown",
   "metadata": {},
   "source": [
    "## Label Subset of Data"
   ]
  },
  {
   "cell_type": "code",
   "execution_count": 42,
   "metadata": {
    "ExecuteTime": {
     "end_time": "2020-08-15T06:47:39.768034Z",
     "start_time": "2020-08-15T06:47:38.540534Z"
    }
   },
   "outputs": [
    {
     "name": "stderr",
     "output_type": "stream",
     "text": [
      "/home/ashish/anaconda3/envs/tf21g/lib/python3.7/site-packages/tqdm/std.py:668: FutureWarning: The Panel class is removed from pandas. Accessing it from the top-level namespace will also be removed in the next version\n",
      "  from pandas import Panel\n",
      "100%|██████████| 1000/1000 [00:01<00:00, 823.73it/s]\n"
     ]
    }
   ],
   "source": [
    "# Apply the LFs to the unlabeled training data\n",
    "applier = PandasLFApplier(lfs)\n",
    "\n",
    "# lets take a sample of 100 records from training set\n",
    "lf_train = train_df.sample(n=1000, random_state=42)\n",
    "L_train = applier.apply(lf_train)"
   ]
  },
  {
   "cell_type": "code",
   "execution_count": 43,
   "metadata": {
    "ExecuteTime": {
     "end_time": "2020-08-15T06:47:41.192442Z",
     "start_time": "2020-08-15T06:47:40.419881Z"
    }
   },
   "outputs": [],
   "source": [
    "# Train the label model and compute the training labels\n",
    "label_model = LabelModel(cardinality=2, verbose=True)\n",
    "label_model.fit(L_train, n_epochs=500, log_freq=50, seed=123)\n",
    "lf_train[\"snorkel\"] = label_model.predict(L=L_train, \n",
    "                                          tie_break_policy=\"abstain\")"
   ]
  },
  {
   "cell_type": "code",
   "execution_count": 44,
   "metadata": {
    "ExecuteTime": {
     "end_time": "2020-08-15T06:47:41.436065Z",
     "start_time": "2020-08-15T06:47:41.403213Z"
    }
   },
   "outputs": [
    {
     "data": {
      "text/html": [
       "<div>\n",
       "<style scoped>\n",
       "    .dataframe tbody tr th:only-of-type {\n",
       "        vertical-align: middle;\n",
       "    }\n",
       "\n",
       "    .dataframe tbody tr th {\n",
       "        vertical-align: top;\n",
       "    }\n",
       "\n",
       "    .dataframe thead th {\n",
       "        text-align: right;\n",
       "    }\n",
       "</style>\n",
       "<table border=\"1\" class=\"dataframe\">\n",
       "  <thead>\n",
       "    <tr style=\"text-align: right;\">\n",
       "      <th></th>\n",
       "      <th>j</th>\n",
       "      <th>Polarity</th>\n",
       "      <th>Coverage</th>\n",
       "      <th>Overlaps</th>\n",
       "      <th>Conflicts</th>\n",
       "    </tr>\n",
       "  </thead>\n",
       "  <tbody>\n",
       "    <tr>\n",
       "      <th>atrocious</th>\n",
       "      <td>0</td>\n",
       "      <td>[0]</td>\n",
       "      <td>0.006</td>\n",
       "      <td>0.005</td>\n",
       "      <td>0.000</td>\n",
       "    </tr>\n",
       "    <tr>\n",
       "      <th>terrible</th>\n",
       "      <td>1</td>\n",
       "      <td>[0]</td>\n",
       "      <td>0.070</td>\n",
       "      <td>0.048</td>\n",
       "      <td>0.020</td>\n",
       "    </tr>\n",
       "    <tr>\n",
       "      <th>piece_of</th>\n",
       "      <td>2</td>\n",
       "      <td>[]</td>\n",
       "      <td>0.000</td>\n",
       "      <td>0.000</td>\n",
       "      <td>0.000</td>\n",
       "    </tr>\n",
       "    <tr>\n",
       "      <th>woefully_miscast</th>\n",
       "      <td>3</td>\n",
       "      <td>[0]</td>\n",
       "      <td>0.008</td>\n",
       "      <td>0.001</td>\n",
       "      <td>0.001</td>\n",
       "    </tr>\n",
       "    <tr>\n",
       "      <th>bad_acting</th>\n",
       "      <td>4</td>\n",
       "      <td>[0]</td>\n",
       "      <td>0.091</td>\n",
       "      <td>0.046</td>\n",
       "      <td>0.015</td>\n",
       "    </tr>\n",
       "    <tr>\n",
       "      <th>cheesy_dull</th>\n",
       "      <td>5</td>\n",
       "      <td>[0]</td>\n",
       "      <td>0.051</td>\n",
       "      <td>0.027</td>\n",
       "      <td>0.011</td>\n",
       "    </tr>\n",
       "    <tr>\n",
       "      <th>disappoint</th>\n",
       "      <td>6</td>\n",
       "      <td>[0]</td>\n",
       "      <td>0.069</td>\n",
       "      <td>0.035</td>\n",
       "      <td>0.021</td>\n",
       "    </tr>\n",
       "    <tr>\n",
       "      <th>crap</th>\n",
       "      <td>7</td>\n",
       "      <td>[0]</td>\n",
       "      <td>0.041</td>\n",
       "      <td>0.024</td>\n",
       "      <td>0.007</td>\n",
       "    </tr>\n",
       "    <tr>\n",
       "      <th>garbage</th>\n",
       "      <td>8</td>\n",
       "      <td>[0]</td>\n",
       "      <td>0.015</td>\n",
       "      <td>0.011</td>\n",
       "      <td>0.003</td>\n",
       "    </tr>\n",
       "    <tr>\n",
       "      <th>unsatisfied</th>\n",
       "      <td>9</td>\n",
       "      <td>[0]</td>\n",
       "      <td>0.007</td>\n",
       "      <td>0.004</td>\n",
       "      <td>0.002</td>\n",
       "    </tr>\n",
       "    <tr>\n",
       "      <th>ridiculous</th>\n",
       "      <td>10</td>\n",
       "      <td>[0]</td>\n",
       "      <td>0.048</td>\n",
       "      <td>0.028</td>\n",
       "      <td>0.008</td>\n",
       "    </tr>\n",
       "    <tr>\n",
       "      <th>classic</th>\n",
       "      <td>11</td>\n",
       "      <td>[1]</td>\n",
       "      <td>0.019</td>\n",
       "      <td>0.012</td>\n",
       "      <td>0.008</td>\n",
       "    </tr>\n",
       "    <tr>\n",
       "      <th>must_watch</th>\n",
       "      <td>12</td>\n",
       "      <td>[1]</td>\n",
       "      <td>0.002</td>\n",
       "      <td>0.002</td>\n",
       "      <td>0.000</td>\n",
       "    </tr>\n",
       "    <tr>\n",
       "      <th>oscar</th>\n",
       "      <td>13</td>\n",
       "      <td>[]</td>\n",
       "      <td>0.000</td>\n",
       "      <td>0.000</td>\n",
       "      <td>0.000</td>\n",
       "    </tr>\n",
       "    <tr>\n",
       "      <th>love</th>\n",
       "      <td>14</td>\n",
       "      <td>[1]</td>\n",
       "      <td>0.079</td>\n",
       "      <td>0.036</td>\n",
       "      <td>0.024</td>\n",
       "    </tr>\n",
       "    <tr>\n",
       "      <th>great_entertainment</th>\n",
       "      <td>15</td>\n",
       "      <td>[1]</td>\n",
       "      <td>0.006</td>\n",
       "      <td>0.003</td>\n",
       "      <td>0.001</td>\n",
       "    </tr>\n",
       "    <tr>\n",
       "      <th>very_entertaining</th>\n",
       "      <td>16</td>\n",
       "      <td>[1]</td>\n",
       "      <td>0.005</td>\n",
       "      <td>0.002</td>\n",
       "      <td>0.001</td>\n",
       "    </tr>\n",
       "    <tr>\n",
       "      <th>amazing</th>\n",
       "      <td>17</td>\n",
       "      <td>[1]</td>\n",
       "      <td>0.055</td>\n",
       "      <td>0.030</td>\n",
       "      <td>0.018</td>\n",
       "    </tr>\n",
       "    <tr>\n",
       "      <th>brilliant</th>\n",
       "      <td>18</td>\n",
       "      <td>[]</td>\n",
       "      <td>0.000</td>\n",
       "      <td>0.000</td>\n",
       "      <td>0.000</td>\n",
       "    </tr>\n",
       "    <tr>\n",
       "      <th>fantastic</th>\n",
       "      <td>19</td>\n",
       "      <td>[1]</td>\n",
       "      <td>0.033</td>\n",
       "      <td>0.016</td>\n",
       "      <td>0.007</td>\n",
       "    </tr>\n",
       "    <tr>\n",
       "      <th>awesome</th>\n",
       "      <td>20</td>\n",
       "      <td>[1]</td>\n",
       "      <td>0.016</td>\n",
       "      <td>0.009</td>\n",
       "      <td>0.005</td>\n",
       "    </tr>\n",
       "    <tr>\n",
       "      <th>great_acting</th>\n",
       "      <td>21</td>\n",
       "      <td>[1]</td>\n",
       "      <td>0.022</td>\n",
       "      <td>0.012</td>\n",
       "      <td>0.008</td>\n",
       "    </tr>\n",
       "    <tr>\n",
       "      <th>great_direction</th>\n",
       "      <td>22</td>\n",
       "      <td>[1]</td>\n",
       "      <td>0.001</td>\n",
       "      <td>0.001</td>\n",
       "      <td>0.001</td>\n",
       "    </tr>\n",
       "    <tr>\n",
       "      <th>great_story</th>\n",
       "      <td>23</td>\n",
       "      <td>[1]</td>\n",
       "      <td>0.012</td>\n",
       "      <td>0.007</td>\n",
       "      <td>0.005</td>\n",
       "    </tr>\n",
       "    <tr>\n",
       "      <th>favourite</th>\n",
       "      <td>24</td>\n",
       "      <td>[1]</td>\n",
       "      <td>0.007</td>\n",
       "      <td>0.002</td>\n",
       "      <td>0.000</td>\n",
       "    </tr>\n",
       "  </tbody>\n",
       "</table>\n",
       "</div>"
      ],
      "text/plain": [
       "                      j Polarity  Coverage  Overlaps  Conflicts\n",
       "atrocious             0      [0]     0.006     0.005      0.000\n",
       "terrible              1      [0]     0.070     0.048      0.020\n",
       "piece_of              2       []     0.000     0.000      0.000\n",
       "woefully_miscast      3      [0]     0.008     0.001      0.001\n",
       "bad_acting            4      [0]     0.091     0.046      0.015\n",
       "cheesy_dull           5      [0]     0.051     0.027      0.011\n",
       "disappoint            6      [0]     0.069     0.035      0.021\n",
       "crap                  7      [0]     0.041     0.024      0.007\n",
       "garbage               8      [0]     0.015     0.011      0.003\n",
       "unsatisfied           9      [0]     0.007     0.004      0.002\n",
       "ridiculous           10      [0]     0.048     0.028      0.008\n",
       "classic              11      [1]     0.019     0.012      0.008\n",
       "must_watch           12      [1]     0.002     0.002      0.000\n",
       "oscar                13       []     0.000     0.000      0.000\n",
       "love                 14      [1]     0.079     0.036      0.024\n",
       "great_entertainment  15      [1]     0.006     0.003      0.001\n",
       "very_entertaining    16      [1]     0.005     0.002      0.001\n",
       "amazing              17      [1]     0.055     0.030      0.018\n",
       "brilliant            18       []     0.000     0.000      0.000\n",
       "fantastic            19      [1]     0.033     0.016      0.007\n",
       "awesome              20      [1]     0.016     0.009      0.005\n",
       "great_acting         21      [1]     0.022     0.012      0.008\n",
       "great_direction      22      [1]     0.001     0.001      0.001\n",
       "great_story          23      [1]     0.012     0.007      0.005\n",
       "favourite            24      [1]     0.007     0.002      0.000"
      ]
     },
     "execution_count": 44,
     "metadata": {},
     "output_type": "execute_result"
    }
   ],
   "source": [
    "from snorkel.labeling import LFAnalysis\n",
    "\n",
    "LFAnalysis(L=L_train, lfs=lfs).lf_summary()"
   ]
  },
  {
   "cell_type": "code",
   "execution_count": 45,
   "metadata": {
    "ExecuteTime": {
     "end_time": "2020-08-15T06:47:42.581960Z",
     "start_time": "2020-08-15T06:47:42.555983Z"
    }
   },
   "outputs": [
    {
     "data": {
      "text/html": [
       "<div>\n",
       "<style scoped>\n",
       "    .dataframe tbody tr th:only-of-type {\n",
       "        vertical-align: middle;\n",
       "    }\n",
       "\n",
       "    .dataframe tbody tr th {\n",
       "        vertical-align: top;\n",
       "    }\n",
       "\n",
       "    .dataframe thead th {\n",
       "        text-align: right;\n",
       "    }\n",
       "</style>\n",
       "<table border=\"1\" class=\"dataframe\">\n",
       "  <thead>\n",
       "    <tr style=\"text-align: right;\">\n",
       "      <th></th>\n",
       "      <th>sentiment</th>\n",
       "      <th>score</th>\n",
       "      <th>snorkel</th>\n",
       "    </tr>\n",
       "  </thead>\n",
       "  <tbody>\n",
       "    <tr>\n",
       "      <th>count</th>\n",
       "      <td>458.000000</td>\n",
       "      <td>458.000000</td>\n",
       "      <td>458.000000</td>\n",
       "    </tr>\n",
       "    <tr>\n",
       "      <th>mean</th>\n",
       "      <td>0.473799</td>\n",
       "      <td>5.347162</td>\n",
       "      <td>0.342795</td>\n",
       "    </tr>\n",
       "    <tr>\n",
       "      <th>std</th>\n",
       "      <td>0.499859</td>\n",
       "      <td>3.534699</td>\n",
       "      <td>0.475163</td>\n",
       "    </tr>\n",
       "    <tr>\n",
       "      <th>min</th>\n",
       "      <td>0.000000</td>\n",
       "      <td>1.000000</td>\n",
       "      <td>0.000000</td>\n",
       "    </tr>\n",
       "    <tr>\n",
       "      <th>25%</th>\n",
       "      <td>0.000000</td>\n",
       "      <td>2.000000</td>\n",
       "      <td>0.000000</td>\n",
       "    </tr>\n",
       "    <tr>\n",
       "      <th>50%</th>\n",
       "      <td>0.000000</td>\n",
       "      <td>4.000000</td>\n",
       "      <td>0.000000</td>\n",
       "    </tr>\n",
       "    <tr>\n",
       "      <th>75%</th>\n",
       "      <td>1.000000</td>\n",
       "      <td>9.000000</td>\n",
       "      <td>1.000000</td>\n",
       "    </tr>\n",
       "    <tr>\n",
       "      <th>max</th>\n",
       "      <td>1.000000</td>\n",
       "      <td>10.000000</td>\n",
       "      <td>1.000000</td>\n",
       "    </tr>\n",
       "  </tbody>\n",
       "</table>\n",
       "</div>"
      ],
      "text/plain": [
       "        sentiment       score     snorkel\n",
       "count  458.000000  458.000000  458.000000\n",
       "mean     0.473799    5.347162    0.342795\n",
       "std      0.499859    3.534699    0.475163\n",
       "min      0.000000    1.000000    0.000000\n",
       "25%      0.000000    2.000000    0.000000\n",
       "50%      0.000000    4.000000    0.000000\n",
       "75%      1.000000    9.000000    1.000000\n",
       "max      1.000000   10.000000    1.000000"
      ]
     },
     "execution_count": 45,
     "metadata": {},
     "output_type": "execute_result"
    }
   ],
   "source": [
    "pred_lfs = lf_train[lf_train.snorkel > -1]\n",
    "pred_lfs.describe()"
   ]
  },
  {
   "cell_type": "code",
   "execution_count": 46,
   "metadata": {
    "ExecuteTime": {
     "end_time": "2020-08-15T06:47:46.480200Z",
     "start_time": "2020-08-15T06:47:46.471841Z"
    }
   },
   "outputs": [],
   "source": [
    "pred_mistake = pred_lfs[pred_lfs.sentiment != pred_lfs.snorkel]"
   ]
  },
  {
   "cell_type": "code",
   "execution_count": 47,
   "metadata": {
    "ExecuteTime": {
     "end_time": "2020-08-15T06:47:48.240657Z",
     "start_time": "2020-08-15T06:47:48.215565Z"
    }
   },
   "outputs": [
    {
     "data": {
      "text/html": [
       "<div>\n",
       "<style scoped>\n",
       "    .dataframe tbody tr th:only-of-type {\n",
       "        vertical-align: middle;\n",
       "    }\n",
       "\n",
       "    .dataframe tbody tr th {\n",
       "        vertical-align: top;\n",
       "    }\n",
       "\n",
       "    .dataframe thead th {\n",
       "        text-align: right;\n",
       "    }\n",
       "</style>\n",
       "<table border=\"1\" class=\"dataframe\">\n",
       "  <thead>\n",
       "    <tr style=\"text-align: right;\">\n",
       "      <th></th>\n",
       "      <th>sentiment</th>\n",
       "      <th>score</th>\n",
       "      <th>snorkel</th>\n",
       "    </tr>\n",
       "  </thead>\n",
       "  <tbody>\n",
       "    <tr>\n",
       "      <th>count</th>\n",
       "      <td>128.000000</td>\n",
       "      <td>128.000000</td>\n",
       "      <td>128.000000</td>\n",
       "    </tr>\n",
       "    <tr>\n",
       "      <th>mean</th>\n",
       "      <td>0.734375</td>\n",
       "      <td>7.187500</td>\n",
       "      <td>0.265625</td>\n",
       "    </tr>\n",
       "    <tr>\n",
       "      <th>std</th>\n",
       "      <td>0.443401</td>\n",
       "      <td>2.768638</td>\n",
       "      <td>0.443401</td>\n",
       "    </tr>\n",
       "    <tr>\n",
       "      <th>min</th>\n",
       "      <td>0.000000</td>\n",
       "      <td>1.000000</td>\n",
       "      <td>0.000000</td>\n",
       "    </tr>\n",
       "    <tr>\n",
       "      <th>25%</th>\n",
       "      <td>0.000000</td>\n",
       "      <td>4.000000</td>\n",
       "      <td>0.000000</td>\n",
       "    </tr>\n",
       "    <tr>\n",
       "      <th>50%</th>\n",
       "      <td>1.000000</td>\n",
       "      <td>8.000000</td>\n",
       "      <td>0.000000</td>\n",
       "    </tr>\n",
       "    <tr>\n",
       "      <th>75%</th>\n",
       "      <td>1.000000</td>\n",
       "      <td>9.250000</td>\n",
       "      <td>1.000000</td>\n",
       "    </tr>\n",
       "    <tr>\n",
       "      <th>max</th>\n",
       "      <td>1.000000</td>\n",
       "      <td>10.000000</td>\n",
       "      <td>1.000000</td>\n",
       "    </tr>\n",
       "  </tbody>\n",
       "</table>\n",
       "</div>"
      ],
      "text/plain": [
       "        sentiment       score     snorkel\n",
       "count  128.000000  128.000000  128.000000\n",
       "mean     0.734375    7.187500    0.265625\n",
       "std      0.443401    2.768638    0.443401\n",
       "min      0.000000    1.000000    0.000000\n",
       "25%      0.000000    4.000000    0.000000\n",
       "50%      1.000000    8.000000    0.000000\n",
       "75%      1.000000    9.250000    1.000000\n",
       "max      1.000000   10.000000    1.000000"
      ]
     },
     "execution_count": 47,
     "metadata": {},
     "output_type": "execute_result"
    }
   ],
   "source": [
    "pred_mistake.describe()"
   ]
  },
  {
   "cell_type": "code",
   "execution_count": 48,
   "metadata": {
    "ExecuteTime": {
     "end_time": "2020-08-15T06:47:50.842648Z",
     "start_time": "2020-08-15T06:47:50.825631Z"
    }
   },
   "outputs": [
    {
     "data": {
      "text/html": [
       "<div>\n",
       "<style scoped>\n",
       "    .dataframe tbody tr th:only-of-type {\n",
       "        vertical-align: middle;\n",
       "    }\n",
       "\n",
       "    .dataframe tbody tr th {\n",
       "        vertical-align: top;\n",
       "    }\n",
       "\n",
       "    .dataframe thead th {\n",
       "        text-align: right;\n",
       "    }\n",
       "</style>\n",
       "<table border=\"1\" class=\"dataframe\">\n",
       "  <thead>\n",
       "    <tr style=\"text-align: right;\">\n",
       "      <th></th>\n",
       "      <th>filename</th>\n",
       "      <th>review</th>\n",
       "      <th>sentiment</th>\n",
       "      <th>score</th>\n",
       "      <th>snorkel</th>\n",
       "    </tr>\n",
       "  </thead>\n",
       "  <tbody>\n",
       "    <tr>\n",
       "      <th>6443</th>\n",
       "      <td>./aclImdb/train//neg/2050_2.txt</td>\n",
       "      <td>Not that \"a film by Ulli Lommel\" filled me wit...</td>\n",
       "      <td>0</td>\n",
       "      <td>2</td>\n",
       "      <td>1</td>\n",
       "    </tr>\n",
       "    <tr>\n",
       "      <th>2201</th>\n",
       "      <td>./aclImdb/train//pos/1010_10.txt</td>\n",
       "      <td>I love this show!&lt;br /&gt;&lt;br /&gt;Every time i watc...</td>\n",
       "      <td>1</td>\n",
       "      <td>10</td>\n",
       "      <td>0</td>\n",
       "    </tr>\n",
       "    <tr>\n",
       "      <th>2911</th>\n",
       "      <td>./aclImdb/train//pos/3250_9.txt</td>\n",
       "      <td>Another one for the Babes &amp; Bullets crowd. The...</td>\n",
       "      <td>1</td>\n",
       "      <td>9</td>\n",
       "      <td>0</td>\n",
       "    </tr>\n",
       "    <tr>\n",
       "      <th>9279</th>\n",
       "      <td>./aclImdb/train//neg/11678_4.txt</td>\n",
       "      <td>For me an unsatisfactory, unconvincing heist m...</td>\n",
       "      <td>0</td>\n",
       "      <td>4</td>\n",
       "      <td>1</td>\n",
       "    </tr>\n",
       "    <tr>\n",
       "      <th>8727</th>\n",
       "      <td>./aclImdb/train//pos/5832_9.txt</td>\n",
       "      <td>Ever since seeing this film as a child, over 3...</td>\n",
       "      <td>1</td>\n",
       "      <td>9</td>\n",
       "      <td>0</td>\n",
       "    </tr>\n",
       "  </tbody>\n",
       "</table>\n",
       "</div>"
      ],
      "text/plain": [
       "                              filename  \\\n",
       "6443   ./aclImdb/train//neg/2050_2.txt   \n",
       "2201  ./aclImdb/train//pos/1010_10.txt   \n",
       "2911   ./aclImdb/train//pos/3250_9.txt   \n",
       "9279  ./aclImdb/train//neg/11678_4.txt   \n",
       "8727   ./aclImdb/train//pos/5832_9.txt   \n",
       "\n",
       "                                                 review  sentiment  score  \\\n",
       "6443  Not that \"a film by Ulli Lommel\" filled me wit...          0      2   \n",
       "2201  I love this show!<br /><br />Every time i watc...          1     10   \n",
       "2911  Another one for the Babes & Bullets crowd. The...          1      9   \n",
       "9279  For me an unsatisfactory, unconvincing heist m...          0      4   \n",
       "8727  Ever since seeing this film as a child, over 3...          1      9   \n",
       "\n",
       "      snorkel  \n",
       "6443        1  \n",
       "2201        0  \n",
       "2911        0  \n",
       "9279        1  \n",
       "8727        0  "
      ]
     },
     "execution_count": 48,
     "metadata": {},
     "output_type": "execute_result"
    }
   ],
   "source": [
    "pred_mistake.head()"
   ]
  },
  {
   "cell_type": "code",
   "execution_count": 49,
   "metadata": {
    "ExecuteTime": {
     "end_time": "2020-08-15T06:47:52.711012Z",
     "start_time": "2020-08-15T06:47:52.701264Z"
    },
    "scrolled": false
   },
   "outputs": [
    {
     "name": "stdout",
     "output_type": "stream",
     "text": [
      "**Not that \"a film by Ulli Lommel\" filled me with hope, but I must confess that ZODIAC KILLER managed to sink beneath my lowest expectations. There is a recent trend among young filmmakers of utilizing digital video for their early projects, which is all well and good for giving these kids the opportunity to create work without spending all their money on expensive film stock. But many of these young filmmakers have also wised up to the notion of filtering the finished movie so that it appears qualitatively more like celluloid. The effect is never perfect, but it helps. Unfiltered digital video really only works for the \"mockumentary\" style, because it never looks like anything other than video. Therein lies the primary trouble with ZODIAC KILLER. Watching the movie feels like watching a daytime soap opera about a murderer. It does not feel like watching a movie. And what's even more unforgivable is that the Lommel is NOT a young filmmaker. He ought to know better. He ought to know that it's virtually impossible to generate horror (or even suspense!) on video. For the love of god this guy has been directing since the sixties! He may be the only director who has failed to improve over a forty year career in the business. And lucky us, he wrote the script too! So you can expect convoluted actions that mean nothing, unjustified behavior, and at least one truly pretentious plot element that will leave you utterly unsatisfied. Please, please miss this film. You'll thank me later.\n",
      "**I love this show!<br /><br />Every time i watch an episode i repeat that line and remind myself how good of a show this is. I am a huge sci-fi fan and this show has grounds to be the most important science (fiction?) show in the history of film/TV. There are so many theories in this show about the universe i could start a religion. Its amazing, season after season the show gets better and better.<br /><br />I've been a fan of MacGyver since i was 5 (19 now) and i find it so ironic that my 2 favorite TV shows of all time star Richard Dean Anderson. Its also interesting how each character is practically the opposite of the other.<br /><br />Back when i first saw Stargate the movie, i instantly liked it and considered it one of my favorite sci-fi flicks, then hearing a TV show would spin from it i got really excited, but didn't get showtime till the fifth season was almost over.<br /><br />Though, I'm disappointed to hear that Roland Emmerich and Dean Devlin wanted to do a trilogy of movies but the studio optioned the series instead. <br /><br />Id say though that it turned out just fine. Maybe even better.<br /><br />This show is amazing, and i hope it never dies. Atlantis here we come!\n",
      "**Another one for the Babes & Bullets crowd. The story is much edgier than any other musical I have seen: cannons hidden up the missing legs of females, and places each generatively in the other in a way that comes closer to intelligent comment than we might expect for the locale. More effective than contemporary 'drama.' It is hard identify with a woman who keeps a cannon up her pants -- in lue of leggage. Pretty remarkable if you consider the context.<br /><br />Despite the cannon up the leg thing providing 90% of the surprises, this film also chronicles how greed supersedes all other considerations in the lives of a group of yakuzas who pursue a woman who keeps up her leg a concealed cannon/rocket-launcher (hence no group shower scenes or thongs) The hidden projectile-launcher which is pulled out from the behind the protagonists back, seemingly from nowhere, in miike's Dead or Alive (1999), The torch brought forth out of thin air by the heroine towards the end of the original Tomie (2000), or the harrowing flame-thrower scene in Sunny Gets Blue (1992), all testify to an almost third-world Cantinflas-esquire influence in the contemporary Japanese cinema, of which I am at a loss to explain, but cannot complain.<br /><br />You won't see good quality movies of this essence made in Hollywood, its all but extinct and with cheap crap they pump out for a cheap thrill, is all but laughable. This is a true film and while its great in its entirety, the ending is a brilliant, if not unblatant rip-off of certain Sergio Leon pictures, involving cannons where legs should be, and certainly is appropriate!\n",
      "**For me an unsatisfactory, unconvincing heist movie. With an A-List cast, particularly the three leads and an experienced maverick director like Spike Lee I was expecting far more and in the end felt that what was delivered added little to this movie sub-genre. For a start I didn't like the pacing of the film, starting off with mastermind Clive Owen's raison d'etre piece to camera, unnecessarily repeated at the conclusion, then finding the narrative peppered with confusing, not to say unreal-seeming witness interviews, then finding yourself jumped into scenes you sense had begun earlier. Of course the camera work is fluid throughout, constantly on the move and incorporating hand-camera shots a-plenty, but director Lee fails to deliver thrills or suspense, falling down fundamentally by not making anything of the key protagonists in the film. Denzel Washington is weighed down with the clothes and bad-ass jive talk of a \"Shaft\" movie thirty - five years earlier (he even has that \"no-one understands him but his woman\" thing going on, replete with his \"hot\" girlfriend, baiting her with some downright crude and inappropriate \"dirty-talk\") and his mild \"In The Heat Of The Night\" riff with Willem Defoe (in almost a bit-part) raises barely a ripple. Clive Owens plays his character with a resolutely English accent even as we're given to believe the gang is Arab-based, also hindered by having to play 90% of the film with a mask over his face. Jodie Foster delivers another of her patented tight-lipped, ice maiden, sub-Clarice Starling turns as a well connected financial bounty-hunter, if you will, to little effect. Overall it's a real mish-mash of a film, with a light but obvious twist at the end, in fact the title gives it away from the start, spoiler fans. Worst scene (of many) is undoubtedly Washington's witness-interview, unbelievably, with an 8 year old street-kid, although Owen's dialogue with the same child minutes earlier runs it close in the embarrassment stakes. During the film in-joke references are made by characters to classic heist films like \"Serpico\" and \"Dog Day Afternoon\" - but there's no honour in self-praise. More like \"The Hot Rock\" instead...and even that was good for a few laughs.\n",
      "**Ever since seeing this film as a child, over 30 years ago, I never tire of watching it. From the opening scenes in the horn factory, to the car motor running from the back seat of the car, to Ollie answering the phone and being accidentally pushed out the window by Stan, I think this was perhaps their best latter day film. After this they moved to 20th Century Fox, and while those films weren't terrible, they lacked the comic timing of this movie. Jimmy Finnlayson, their long time foil, in his last appearance with the boys, showing up as the Doctor is super! quote: \" I said goat milk \" his reply to Stan asking him how do you milk a ghost! Charlie Hall and even Ben Turpin show up! I'd say all in all one of my favorite L & H comedies.\n"
     ]
    }
   ],
   "source": [
    "for x in pred_mistake.head().review.tolist():\n",
    "    print(\"**\" + x)"
   ]
  },
  {
   "cell_type": "markdown",
   "metadata": {},
   "source": [
    "## Test Labeling Accuracy on Training Set"
   ]
  },
  {
   "cell_type": "code",
   "execution_count": 50,
   "metadata": {
    "ExecuteTime": {
     "end_time": "2020-08-15T06:51:15.948671Z",
     "start_time": "2020-08-15T06:50:45.114673Z"
    }
   },
   "outputs": [
    {
     "name": "stderr",
     "output_type": "stream",
     "text": [
      "/home/ashish/anaconda3/envs/tf21g/lib/python3.7/site-packages/tqdm/std.py:668: FutureWarning: The Panel class is removed from pandas. Accessing it from the top-level namespace will also be removed in the next version\n",
      "  from pandas import Panel\n",
      "100%|██████████| 25000/25000 [00:30<00:00, 814.12it/s]\n"
     ]
    }
   ],
   "source": [
    "L_train_full = applier.apply(train_df)"
   ]
  },
  {
   "cell_type": "code",
   "execution_count": 51,
   "metadata": {
    "ExecuteTime": {
     "end_time": "2020-08-15T06:51:16.768036Z",
     "start_time": "2020-08-15T06:51:15.999274Z"
    }
   },
   "outputs": [],
   "source": [
    "label_model = LabelModel(cardinality=2, verbose=True)\n",
    "label_model.fit(L_train_full, n_epochs=500, log_freq=50, seed=123)"
   ]
  },
  {
   "cell_type": "code",
   "execution_count": 52,
   "metadata": {
    "ExecuteTime": {
     "end_time": "2020-08-15T06:55:51.662033Z",
     "start_time": "2020-08-15T06:55:51.511044Z"
    }
   },
   "outputs": [],
   "source": [
    "train_df[\"snorkel\"] = label_model.predict(L=L_train_full, tie_break_policy=\"abstain\")"
   ]
  },
  {
   "cell_type": "code",
   "execution_count": 53,
   "metadata": {
    "ExecuteTime": {
     "end_time": "2020-08-15T06:55:53.765267Z",
     "start_time": "2020-08-15T06:55:53.740263Z"
    }
   },
   "outputs": [
    {
     "data": {
      "text/html": [
       "<div>\n",
       "<style scoped>\n",
       "    .dataframe tbody tr th:only-of-type {\n",
       "        vertical-align: middle;\n",
       "    }\n",
       "\n",
       "    .dataframe tbody tr th {\n",
       "        vertical-align: top;\n",
       "    }\n",
       "\n",
       "    .dataframe thead th {\n",
       "        text-align: right;\n",
       "    }\n",
       "</style>\n",
       "<table border=\"1\" class=\"dataframe\">\n",
       "  <thead>\n",
       "    <tr style=\"text-align: right;\">\n",
       "      <th></th>\n",
       "      <th>sentiment</th>\n",
       "      <th>score</th>\n",
       "      <th>snorkel</th>\n",
       "    </tr>\n",
       "  </thead>\n",
       "  <tbody>\n",
       "    <tr>\n",
       "      <th>count</th>\n",
       "      <td>11159.000000</td>\n",
       "      <td>11159.000000</td>\n",
       "      <td>11159.000000</td>\n",
       "    </tr>\n",
       "    <tr>\n",
       "      <th>mean</th>\n",
       "      <td>0.429160</td>\n",
       "      <td>5.007707</td>\n",
       "      <td>0.359889</td>\n",
       "    </tr>\n",
       "    <tr>\n",
       "      <th>std</th>\n",
       "      <td>0.494978</td>\n",
       "      <td>3.502737</td>\n",
       "      <td>0.479989</td>\n",
       "    </tr>\n",
       "    <tr>\n",
       "      <th>min</th>\n",
       "      <td>0.000000</td>\n",
       "      <td>1.000000</td>\n",
       "      <td>0.000000</td>\n",
       "    </tr>\n",
       "    <tr>\n",
       "      <th>25%</th>\n",
       "      <td>0.000000</td>\n",
       "      <td>2.000000</td>\n",
       "      <td>0.000000</td>\n",
       "    </tr>\n",
       "    <tr>\n",
       "      <th>50%</th>\n",
       "      <td>0.000000</td>\n",
       "      <td>4.000000</td>\n",
       "      <td>0.000000</td>\n",
       "    </tr>\n",
       "    <tr>\n",
       "      <th>75%</th>\n",
       "      <td>1.000000</td>\n",
       "      <td>9.000000</td>\n",
       "      <td>1.000000</td>\n",
       "    </tr>\n",
       "    <tr>\n",
       "      <th>max</th>\n",
       "      <td>1.000000</td>\n",
       "      <td>10.000000</td>\n",
       "      <td>1.000000</td>\n",
       "    </tr>\n",
       "  </tbody>\n",
       "</table>\n",
       "</div>"
      ],
      "text/plain": [
       "          sentiment         score       snorkel\n",
       "count  11159.000000  11159.000000  11159.000000\n",
       "mean       0.429160      5.007707      0.359889\n",
       "std        0.494978      3.502737      0.479989\n",
       "min        0.000000      1.000000      0.000000\n",
       "25%        0.000000      2.000000      0.000000\n",
       "50%        0.000000      4.000000      0.000000\n",
       "75%        1.000000      9.000000      1.000000\n",
       "max        1.000000     10.000000      1.000000"
      ]
     },
     "execution_count": 53,
     "metadata": {},
     "output_type": "execute_result"
    }
   ],
   "source": [
    "pred_lfs = train_df[train_df.snorkel > -1]\n",
    "pred_lfs.describe()"
   ]
  },
  {
   "cell_type": "code",
   "execution_count": 54,
   "metadata": {
    "ExecuteTime": {
     "end_time": "2020-08-15T06:55:55.972775Z",
     "start_time": "2020-08-15T06:55:55.946860Z"
    }
   },
   "outputs": [
    {
     "data": {
      "text/html": [
       "<div>\n",
       "<style scoped>\n",
       "    .dataframe tbody tr th:only-of-type {\n",
       "        vertical-align: middle;\n",
       "    }\n",
       "\n",
       "    .dataframe tbody tr th {\n",
       "        vertical-align: top;\n",
       "    }\n",
       "\n",
       "    .dataframe thead th {\n",
       "        text-align: right;\n",
       "    }\n",
       "</style>\n",
       "<table border=\"1\" class=\"dataframe\">\n",
       "  <thead>\n",
       "    <tr style=\"text-align: right;\">\n",
       "      <th></th>\n",
       "      <th>sentiment</th>\n",
       "      <th>score</th>\n",
       "      <th>snorkel</th>\n",
       "    </tr>\n",
       "  </thead>\n",
       "  <tbody>\n",
       "    <tr>\n",
       "      <th>count</th>\n",
       "      <td>2627.000000</td>\n",
       "      <td>2627.000000</td>\n",
       "      <td>2627.000000</td>\n",
       "    </tr>\n",
       "    <tr>\n",
       "      <th>mean</th>\n",
       "      <td>0.647126</td>\n",
       "      <td>6.352493</td>\n",
       "      <td>0.352874</td>\n",
       "    </tr>\n",
       "    <tr>\n",
       "      <th>std</th>\n",
       "      <td>0.477955</td>\n",
       "      <td>3.125917</td>\n",
       "      <td>0.477955</td>\n",
       "    </tr>\n",
       "    <tr>\n",
       "      <th>min</th>\n",
       "      <td>0.000000</td>\n",
       "      <td>1.000000</td>\n",
       "      <td>0.000000</td>\n",
       "    </tr>\n",
       "    <tr>\n",
       "      <th>25%</th>\n",
       "      <td>0.000000</td>\n",
       "      <td>3.000000</td>\n",
       "      <td>0.000000</td>\n",
       "    </tr>\n",
       "    <tr>\n",
       "      <th>50%</th>\n",
       "      <td>1.000000</td>\n",
       "      <td>7.000000</td>\n",
       "      <td>0.000000</td>\n",
       "    </tr>\n",
       "    <tr>\n",
       "      <th>75%</th>\n",
       "      <td>1.000000</td>\n",
       "      <td>9.000000</td>\n",
       "      <td>1.000000</td>\n",
       "    </tr>\n",
       "    <tr>\n",
       "      <th>max</th>\n",
       "      <td>1.000000</td>\n",
       "      <td>10.000000</td>\n",
       "      <td>1.000000</td>\n",
       "    </tr>\n",
       "  </tbody>\n",
       "</table>\n",
       "</div>"
      ],
      "text/plain": [
       "         sentiment        score      snorkel\n",
       "count  2627.000000  2627.000000  2627.000000\n",
       "mean      0.647126     6.352493     0.352874\n",
       "std       0.477955     3.125917     0.477955\n",
       "min       0.000000     1.000000     0.000000\n",
       "25%       0.000000     3.000000     0.000000\n",
       "50%       1.000000     7.000000     0.000000\n",
       "75%       1.000000     9.000000     1.000000\n",
       "max       1.000000    10.000000     1.000000"
      ]
     },
     "execution_count": 54,
     "metadata": {},
     "output_type": "execute_result"
    }
   ],
   "source": [
    "pred_mistake = pred_lfs[pred_lfs.sentiment != pred_lfs.snorkel]\n",
    "pred_mistake.describe()"
   ]
  },
  {
   "cell_type": "code",
   "execution_count": 99,
   "metadata": {
    "ExecuteTime": {
     "end_time": "2020-08-15T09:22:55.154900Z",
     "start_time": "2020-08-15T09:22:54.969253Z"
    }
   },
   "outputs": [
    {
     "name": "stderr",
     "output_type": "stream",
     "text": [
      "WARNING:root:Metrics calculated over data points with non-abstain labels only\n"
     ]
    },
    {
     "name": "stdout",
     "output_type": "stream",
     "text": [
      "Label Model Accuracy:     76.6%\n",
      "All Metrics:  {'accuracy': 0.7660184604355229, 'coverage': 0.44636, 'precision': 0.7692878338278932, 'recall': 0.6496136980580497, 'f1': 0.7044039397713122}\n"
     ]
    }
   ],
   "source": [
    "metrics = label_model.score(L=L_train_full, Y=train_df.sentiment, \n",
    "                            tie_break_policy=\"abstain\",\n",
    "                            metrics=[\"accuracy\", \"coverage\", \"precision\", \n",
    "                                     \"recall\", \"f1\"])\n",
    "label_model_acc = metrics[\"accuracy\"]\n",
    "print(f\"{'Label Model Accuracy:':<25} {label_model_acc * 100:.1f}%\")\n",
    "print(\"All Metrics: \", metrics)"
   ]
  },
  {
   "cell_type": "code",
   "execution_count": 56,
   "metadata": {
    "ExecuteTime": {
     "end_time": "2020-08-15T06:55:58.824736Z",
     "start_time": "2020-08-15T06:55:57.972449Z"
    }
   },
   "outputs": [],
   "source": [
    "from snorkel.labeling.model import MajorityLabelVoter\n",
    "\n",
    "majority_model = MajorityLabelVoter(cardinality=2, verbose=True)\n",
    "preds_train = majority_model.predict(L=L_train_full)"
   ]
  },
  {
   "cell_type": "code",
   "execution_count": 57,
   "metadata": {
    "ExecuteTime": {
     "end_time": "2020-08-15T06:56:00.139177Z",
     "start_time": "2020-08-15T06:55:59.262245Z"
    }
   },
   "outputs": [
    {
     "name": "stderr",
     "output_type": "stream",
     "text": [
      "WARNING:root:Metrics calculated over data points with non-abstain labels only\n"
     ]
    },
    {
     "name": "stdout",
     "output_type": "stream",
     "text": [
      "Majority Vote Accuracy:   78.5%\n"
     ]
    }
   ],
   "source": [
    "majority_acc = majority_model.score(L=L_train_full, Y=train_df.sentiment, \n",
    "                                tie_break_policy=\"abstain\")[\"accuracy\"]\n",
    "print(f\"{'Majority Vote Accuracy:':<25} {majority_acc * 100:.1f}%\")"
   ]
  },
  {
   "cell_type": "code",
   "execution_count": 58,
   "metadata": {
    "ExecuteTime": {
     "end_time": "2020-08-15T06:56:00.369393Z",
     "start_time": "2020-08-15T06:56:00.314955Z"
    }
   },
   "outputs": [
    {
     "data": {
      "text/html": [
       "<div>\n",
       "<style scoped>\n",
       "    .dataframe tbody tr th:only-of-type {\n",
       "        vertical-align: middle;\n",
       "    }\n",
       "\n",
       "    .dataframe tbody tr th {\n",
       "        vertical-align: top;\n",
       "    }\n",
       "\n",
       "    .dataframe thead th {\n",
       "        text-align: right;\n",
       "    }\n",
       "</style>\n",
       "<table border=\"1\" class=\"dataframe\">\n",
       "  <thead>\n",
       "    <tr style=\"text-align: right;\">\n",
       "      <th></th>\n",
       "      <th>j</th>\n",
       "      <th>Polarity</th>\n",
       "      <th>Coverage</th>\n",
       "      <th>Overlaps</th>\n",
       "      <th>Conflicts</th>\n",
       "    </tr>\n",
       "  </thead>\n",
       "  <tbody>\n",
       "    <tr>\n",
       "      <th>atrocious</th>\n",
       "      <td>0</td>\n",
       "      <td>[0]</td>\n",
       "      <td>0.00816</td>\n",
       "      <td>0.00584</td>\n",
       "      <td>0.00132</td>\n",
       "    </tr>\n",
       "    <tr>\n",
       "      <th>terrible</th>\n",
       "      <td>1</td>\n",
       "      <td>[0]</td>\n",
       "      <td>0.05356</td>\n",
       "      <td>0.03168</td>\n",
       "      <td>0.01072</td>\n",
       "    </tr>\n",
       "    <tr>\n",
       "      <th>piece_of</th>\n",
       "      <td>2</td>\n",
       "      <td>[0]</td>\n",
       "      <td>0.00084</td>\n",
       "      <td>0.00068</td>\n",
       "      <td>0.00020</td>\n",
       "    </tr>\n",
       "    <tr>\n",
       "      <th>woefully_miscast</th>\n",
       "      <td>3</td>\n",
       "      <td>[0]</td>\n",
       "      <td>0.00848</td>\n",
       "      <td>0.00480</td>\n",
       "      <td>0.00164</td>\n",
       "    </tr>\n",
       "    <tr>\n",
       "      <th>bad_acting</th>\n",
       "      <td>4</td>\n",
       "      <td>[0]</td>\n",
       "      <td>0.08748</td>\n",
       "      <td>0.04924</td>\n",
       "      <td>0.01736</td>\n",
       "    </tr>\n",
       "    <tr>\n",
       "      <th>cheesy_dull</th>\n",
       "      <td>5</td>\n",
       "      <td>[0]</td>\n",
       "      <td>0.05136</td>\n",
       "      <td>0.02716</td>\n",
       "      <td>0.01012</td>\n",
       "    </tr>\n",
       "    <tr>\n",
       "      <th>disappoint</th>\n",
       "      <td>6</td>\n",
       "      <td>[0]</td>\n",
       "      <td>0.06812</td>\n",
       "      <td>0.03136</td>\n",
       "      <td>0.01548</td>\n",
       "    </tr>\n",
       "    <tr>\n",
       "      <th>crap</th>\n",
       "      <td>7</td>\n",
       "      <td>[0]</td>\n",
       "      <td>0.04784</td>\n",
       "      <td>0.02544</td>\n",
       "      <td>0.00896</td>\n",
       "    </tr>\n",
       "    <tr>\n",
       "      <th>garbage</th>\n",
       "      <td>8</td>\n",
       "      <td>[0]</td>\n",
       "      <td>0.01692</td>\n",
       "      <td>0.00992</td>\n",
       "      <td>0.00272</td>\n",
       "    </tr>\n",
       "    <tr>\n",
       "      <th>unsatisfied</th>\n",
       "      <td>9</td>\n",
       "      <td>[0]</td>\n",
       "      <td>0.00388</td>\n",
       "      <td>0.00188</td>\n",
       "      <td>0.00068</td>\n",
       "    </tr>\n",
       "    <tr>\n",
       "      <th>ridiculous</th>\n",
       "      <td>10</td>\n",
       "      <td>[0]</td>\n",
       "      <td>0.03976</td>\n",
       "      <td>0.02292</td>\n",
       "      <td>0.00784</td>\n",
       "    </tr>\n",
       "    <tr>\n",
       "      <th>classic</th>\n",
       "      <td>11</td>\n",
       "      <td>[1]</td>\n",
       "      <td>0.01684</td>\n",
       "      <td>0.00804</td>\n",
       "      <td>0.00456</td>\n",
       "    </tr>\n",
       "    <tr>\n",
       "      <th>must_watch</th>\n",
       "      <td>12</td>\n",
       "      <td>[1]</td>\n",
       "      <td>0.00176</td>\n",
       "      <td>0.00076</td>\n",
       "      <td>0.00032</td>\n",
       "    </tr>\n",
       "    <tr>\n",
       "      <th>oscar</th>\n",
       "      <td>13</td>\n",
       "      <td>[1]</td>\n",
       "      <td>0.00064</td>\n",
       "      <td>0.00028</td>\n",
       "      <td>0.00004</td>\n",
       "    </tr>\n",
       "    <tr>\n",
       "      <th>love</th>\n",
       "      <td>14</td>\n",
       "      <td>[1]</td>\n",
       "      <td>0.08660</td>\n",
       "      <td>0.03932</td>\n",
       "      <td>0.02636</td>\n",
       "    </tr>\n",
       "    <tr>\n",
       "      <th>great_entertainment</th>\n",
       "      <td>15</td>\n",
       "      <td>[1]</td>\n",
       "      <td>0.00488</td>\n",
       "      <td>0.00268</td>\n",
       "      <td>0.00180</td>\n",
       "    </tr>\n",
       "    <tr>\n",
       "      <th>very_entertaining</th>\n",
       "      <td>16</td>\n",
       "      <td>[1]</td>\n",
       "      <td>0.00544</td>\n",
       "      <td>0.00224</td>\n",
       "      <td>0.00132</td>\n",
       "    </tr>\n",
       "    <tr>\n",
       "      <th>amazing</th>\n",
       "      <td>17</td>\n",
       "      <td>[1]</td>\n",
       "      <td>0.05028</td>\n",
       "      <td>0.02504</td>\n",
       "      <td>0.01284</td>\n",
       "    </tr>\n",
       "    <tr>\n",
       "      <th>brilliant</th>\n",
       "      <td>18</td>\n",
       "      <td>[1]</td>\n",
       "      <td>0.00008</td>\n",
       "      <td>0.00000</td>\n",
       "      <td>0.00000</td>\n",
       "    </tr>\n",
       "    <tr>\n",
       "      <th>fantastic</th>\n",
       "      <td>19</td>\n",
       "      <td>[1]</td>\n",
       "      <td>0.03036</td>\n",
       "      <td>0.01600</td>\n",
       "      <td>0.00724</td>\n",
       "    </tr>\n",
       "    <tr>\n",
       "      <th>awesome</th>\n",
       "      <td>20</td>\n",
       "      <td>[1]</td>\n",
       "      <td>0.01740</td>\n",
       "      <td>0.00948</td>\n",
       "      <td>0.00504</td>\n",
       "    </tr>\n",
       "    <tr>\n",
       "      <th>great_acting</th>\n",
       "      <td>21</td>\n",
       "      <td>[1]</td>\n",
       "      <td>0.02072</td>\n",
       "      <td>0.01196</td>\n",
       "      <td>0.00624</td>\n",
       "    </tr>\n",
       "    <tr>\n",
       "      <th>great_direction</th>\n",
       "      <td>22</td>\n",
       "      <td>[1]</td>\n",
       "      <td>0.00128</td>\n",
       "      <td>0.00052</td>\n",
       "      <td>0.00032</td>\n",
       "    </tr>\n",
       "    <tr>\n",
       "      <th>great_story</th>\n",
       "      <td>23</td>\n",
       "      <td>[1]</td>\n",
       "      <td>0.00888</td>\n",
       "      <td>0.00508</td>\n",
       "      <td>0.00204</td>\n",
       "    </tr>\n",
       "    <tr>\n",
       "      <th>favourite</th>\n",
       "      <td>24</td>\n",
       "      <td>[1]</td>\n",
       "      <td>0.00732</td>\n",
       "      <td>0.00380</td>\n",
       "      <td>0.00212</td>\n",
       "    </tr>\n",
       "  </tbody>\n",
       "</table>\n",
       "</div>"
      ],
      "text/plain": [
       "                      j Polarity  Coverage  Overlaps  Conflicts\n",
       "atrocious             0      [0]   0.00816   0.00584    0.00132\n",
       "terrible              1      [0]   0.05356   0.03168    0.01072\n",
       "piece_of              2      [0]   0.00084   0.00068    0.00020\n",
       "woefully_miscast      3      [0]   0.00848   0.00480    0.00164\n",
       "bad_acting            4      [0]   0.08748   0.04924    0.01736\n",
       "cheesy_dull           5      [0]   0.05136   0.02716    0.01012\n",
       "disappoint            6      [0]   0.06812   0.03136    0.01548\n",
       "crap                  7      [0]   0.04784   0.02544    0.00896\n",
       "garbage               8      [0]   0.01692   0.00992    0.00272\n",
       "unsatisfied           9      [0]   0.00388   0.00188    0.00068\n",
       "ridiculous           10      [0]   0.03976   0.02292    0.00784\n",
       "classic              11      [1]   0.01684   0.00804    0.00456\n",
       "must_watch           12      [1]   0.00176   0.00076    0.00032\n",
       "oscar                13      [1]   0.00064   0.00028    0.00004\n",
       "love                 14      [1]   0.08660   0.03932    0.02636\n",
       "great_entertainment  15      [1]   0.00488   0.00268    0.00180\n",
       "very_entertaining    16      [1]   0.00544   0.00224    0.00132\n",
       "amazing              17      [1]   0.05028   0.02504    0.01284\n",
       "brilliant            18      [1]   0.00008   0.00000    0.00000\n",
       "fantastic            19      [1]   0.03036   0.01600    0.00724\n",
       "awesome              20      [1]   0.01740   0.00948    0.00504\n",
       "great_acting         21      [1]   0.02072   0.01196    0.00624\n",
       "great_direction      22      [1]   0.00128   0.00052    0.00032\n",
       "great_story          23      [1]   0.00888   0.00508    0.00204\n",
       "favourite            24      [1]   0.00732   0.00380    0.00212"
      ]
     },
     "execution_count": 58,
     "metadata": {},
     "output_type": "execute_result"
    }
   ],
   "source": [
    "from snorkel.labeling import LFAnalysis\n",
    "\n",
    "LFAnalysis(L=L_train_full, lfs=lfs).lf_summary()"
   ]
  },
  {
   "cell_type": "markdown",
   "metadata": {},
   "source": [
    "## Label the unsupervised dataset"
   ]
  },
  {
   "cell_type": "code",
   "execution_count": 59,
   "metadata": {
    "ExecuteTime": {
     "end_time": "2020-08-15T06:57:11.044880Z",
     "start_time": "2020-08-15T06:56:10.741604Z"
    }
   },
   "outputs": [
    {
     "name": "stderr",
     "output_type": "stream",
     "text": [
      "/home/ashish/anaconda3/envs/tf21g/lib/python3.7/site-packages/tqdm/std.py:668: FutureWarning: The Panel class is removed from pandas. Accessing it from the top-level namespace will also be removed in the next version\n",
      "  from pandas import Panel\n",
      "100%|██████████| 50000/50000 [01:00<00:00, 831.23it/s]\n"
     ]
    }
   ],
   "source": [
    "# Apply the LFs to the unlabeled training data\n",
    "applier = PandasLFApplier(lfs)\n",
    "\n",
    "# now lets apply on the unsuperisved dataset\n",
    "L_train_unsup = applier.apply(unsup_df)"
   ]
  },
  {
   "cell_type": "code",
   "execution_count": 60,
   "metadata": {
    "ExecuteTime": {
     "end_time": "2020-08-15T06:57:12.155883Z",
     "start_time": "2020-08-15T06:57:11.088066Z"
    }
   },
   "outputs": [],
   "source": [
    "label_model = LabelModel(cardinality=2, verbose=True)\n",
    "label_model.fit(L_train_unsup, n_epochs=500, log_freq=100, seed=42)\n",
    "unsup_df[\"snorkel\"] = label_model.predict(L=L_train_unsup, \n",
    "                                          tie_break_policy= \"abstain\")"
   ]
  },
  {
   "cell_type": "code",
   "execution_count": 61,
   "metadata": {
    "ExecuteTime": {
     "end_time": "2020-08-15T06:57:12.212377Z",
     "start_time": "2020-08-15T06:57:12.197489Z"
    }
   },
   "outputs": [
    {
     "data": {
      "text/html": [
       "<div>\n",
       "<style scoped>\n",
       "    .dataframe tbody tr th:only-of-type {\n",
       "        vertical-align: middle;\n",
       "    }\n",
       "\n",
       "    .dataframe tbody tr th {\n",
       "        vertical-align: top;\n",
       "    }\n",
       "\n",
       "    .dataframe thead th {\n",
       "        text-align: right;\n",
       "    }\n",
       "</style>\n",
       "<table border=\"1\" class=\"dataframe\">\n",
       "  <thead>\n",
       "    <tr style=\"text-align: right;\">\n",
       "      <th></th>\n",
       "      <th>snorkel</th>\n",
       "    </tr>\n",
       "  </thead>\n",
       "  <tbody>\n",
       "    <tr>\n",
       "      <th>count</th>\n",
       "      <td>22233.000000</td>\n",
       "    </tr>\n",
       "    <tr>\n",
       "      <th>mean</th>\n",
       "      <td>0.359151</td>\n",
       "    </tr>\n",
       "    <tr>\n",
       "      <th>std</th>\n",
       "      <td>0.479762</td>\n",
       "    </tr>\n",
       "    <tr>\n",
       "      <th>min</th>\n",
       "      <td>0.000000</td>\n",
       "    </tr>\n",
       "    <tr>\n",
       "      <th>25%</th>\n",
       "      <td>0.000000</td>\n",
       "    </tr>\n",
       "    <tr>\n",
       "      <th>50%</th>\n",
       "      <td>0.000000</td>\n",
       "    </tr>\n",
       "    <tr>\n",
       "      <th>75%</th>\n",
       "      <td>1.000000</td>\n",
       "    </tr>\n",
       "    <tr>\n",
       "      <th>max</th>\n",
       "      <td>1.000000</td>\n",
       "    </tr>\n",
       "  </tbody>\n",
       "</table>\n",
       "</div>"
      ],
      "text/plain": [
       "            snorkel\n",
       "count  22233.000000\n",
       "mean       0.359151\n",
       "std        0.479762\n",
       "min        0.000000\n",
       "25%        0.000000\n",
       "50%        0.000000\n",
       "75%        1.000000\n",
       "max        1.000000"
      ]
     },
     "execution_count": 61,
     "metadata": {},
     "output_type": "execute_result"
    }
   ],
   "source": [
    "pred_unsup_lfs = unsup_df[unsup_df.snorkel > -1]\n",
    "pred_unsup_lfs.describe()"
   ]
  },
  {
   "cell_type": "code",
   "execution_count": 62,
   "metadata": {
    "ExecuteTime": {
     "end_time": "2020-08-15T06:57:12.334559Z",
     "start_time": "2020-08-15T06:57:12.261098Z"
    }
   },
   "outputs": [
    {
     "data": {
      "text/html": [
       "<div>\n",
       "<style scoped>\n",
       "    .dataframe tbody tr th:only-of-type {\n",
       "        vertical-align: middle;\n",
       "    }\n",
       "\n",
       "    .dataframe tbody tr th {\n",
       "        vertical-align: top;\n",
       "    }\n",
       "\n",
       "    .dataframe thead th {\n",
       "        text-align: right;\n",
       "    }\n",
       "</style>\n",
       "<table border=\"1\" class=\"dataframe\">\n",
       "  <thead>\n",
       "    <tr style=\"text-align: right;\">\n",
       "      <th></th>\n",
       "      <th>j</th>\n",
       "      <th>Polarity</th>\n",
       "      <th>Coverage</th>\n",
       "      <th>Overlaps</th>\n",
       "      <th>Conflicts</th>\n",
       "    </tr>\n",
       "  </thead>\n",
       "  <tbody>\n",
       "    <tr>\n",
       "      <th>atrocious</th>\n",
       "      <td>0</td>\n",
       "      <td>[0]</td>\n",
       "      <td>0.00734</td>\n",
       "      <td>0.00496</td>\n",
       "      <td>0.00148</td>\n",
       "    </tr>\n",
       "    <tr>\n",
       "      <th>terrible</th>\n",
       "      <td>1</td>\n",
       "      <td>[0]</td>\n",
       "      <td>0.05400</td>\n",
       "      <td>0.03188</td>\n",
       "      <td>0.01024</td>\n",
       "    </tr>\n",
       "    <tr>\n",
       "      <th>piece_of</th>\n",
       "      <td>2</td>\n",
       "      <td>[0]</td>\n",
       "      <td>0.00072</td>\n",
       "      <td>0.00046</td>\n",
       "      <td>0.00008</td>\n",
       "    </tr>\n",
       "    <tr>\n",
       "      <th>woefully_miscast</th>\n",
       "      <td>3</td>\n",
       "      <td>[0]</td>\n",
       "      <td>0.00758</td>\n",
       "      <td>0.00384</td>\n",
       "      <td>0.00160</td>\n",
       "    </tr>\n",
       "    <tr>\n",
       "      <th>bad_acting</th>\n",
       "      <td>4</td>\n",
       "      <td>[0]</td>\n",
       "      <td>0.08520</td>\n",
       "      <td>0.04734</td>\n",
       "      <td>0.01724</td>\n",
       "    </tr>\n",
       "    <tr>\n",
       "      <th>cheesy_dull</th>\n",
       "      <td>5</td>\n",
       "      <td>[0]</td>\n",
       "      <td>0.05312</td>\n",
       "      <td>0.02882</td>\n",
       "      <td>0.01088</td>\n",
       "    </tr>\n",
       "    <tr>\n",
       "      <th>disappoint</th>\n",
       "      <td>6</td>\n",
       "      <td>[0]</td>\n",
       "      <td>0.06914</td>\n",
       "      <td>0.03188</td>\n",
       "      <td>0.01586</td>\n",
       "    </tr>\n",
       "    <tr>\n",
       "      <th>crap</th>\n",
       "      <td>7</td>\n",
       "      <td>[0]</td>\n",
       "      <td>0.04880</td>\n",
       "      <td>0.02694</td>\n",
       "      <td>0.00980</td>\n",
       "    </tr>\n",
       "    <tr>\n",
       "      <th>garbage</th>\n",
       "      <td>8</td>\n",
       "      <td>[0]</td>\n",
       "      <td>0.01652</td>\n",
       "      <td>0.00972</td>\n",
       "      <td>0.00304</td>\n",
       "    </tr>\n",
       "    <tr>\n",
       "      <th>unsatisfied</th>\n",
       "      <td>9</td>\n",
       "      <td>[0]</td>\n",
       "      <td>0.00370</td>\n",
       "      <td>0.00186</td>\n",
       "      <td>0.00076</td>\n",
       "    </tr>\n",
       "    <tr>\n",
       "      <th>ridiculous</th>\n",
       "      <td>10</td>\n",
       "      <td>[0]</td>\n",
       "      <td>0.03990</td>\n",
       "      <td>0.02238</td>\n",
       "      <td>0.00788</td>\n",
       "    </tr>\n",
       "    <tr>\n",
       "      <th>classic</th>\n",
       "      <td>11</td>\n",
       "      <td>[1]</td>\n",
       "      <td>0.01694</td>\n",
       "      <td>0.00792</td>\n",
       "      <td>0.00450</td>\n",
       "    </tr>\n",
       "    <tr>\n",
       "      <th>must_watch</th>\n",
       "      <td>12</td>\n",
       "      <td>[1]</td>\n",
       "      <td>0.00234</td>\n",
       "      <td>0.00140</td>\n",
       "      <td>0.00056</td>\n",
       "    </tr>\n",
       "    <tr>\n",
       "      <th>oscar</th>\n",
       "      <td>13</td>\n",
       "      <td>[1]</td>\n",
       "      <td>0.00074</td>\n",
       "      <td>0.00028</td>\n",
       "      <td>0.00014</td>\n",
       "    </tr>\n",
       "    <tr>\n",
       "      <th>love</th>\n",
       "      <td>14</td>\n",
       "      <td>[1]</td>\n",
       "      <td>0.08582</td>\n",
       "      <td>0.03876</td>\n",
       "      <td>0.02616</td>\n",
       "    </tr>\n",
       "    <tr>\n",
       "      <th>great_entertainment</th>\n",
       "      <td>15</td>\n",
       "      <td>[1]</td>\n",
       "      <td>0.00516</td>\n",
       "      <td>0.00286</td>\n",
       "      <td>0.00170</td>\n",
       "    </tr>\n",
       "    <tr>\n",
       "      <th>very_entertaining</th>\n",
       "      <td>16</td>\n",
       "      <td>[1]</td>\n",
       "      <td>0.00602</td>\n",
       "      <td>0.00256</td>\n",
       "      <td>0.00132</td>\n",
       "    </tr>\n",
       "    <tr>\n",
       "      <th>amazing</th>\n",
       "      <td>17</td>\n",
       "      <td>[1]</td>\n",
       "      <td>0.04680</td>\n",
       "      <td>0.02340</td>\n",
       "      <td>0.01338</td>\n",
       "    </tr>\n",
       "    <tr>\n",
       "      <th>brilliant</th>\n",
       "      <td>18</td>\n",
       "      <td>[1]</td>\n",
       "      <td>0.00006</td>\n",
       "      <td>0.00004</td>\n",
       "      <td>0.00000</td>\n",
       "    </tr>\n",
       "    <tr>\n",
       "      <th>fantastic</th>\n",
       "      <td>19</td>\n",
       "      <td>[1]</td>\n",
       "      <td>0.02758</td>\n",
       "      <td>0.01402</td>\n",
       "      <td>0.00700</td>\n",
       "    </tr>\n",
       "    <tr>\n",
       "      <th>awesome</th>\n",
       "      <td>20</td>\n",
       "      <td>[1]</td>\n",
       "      <td>0.01876</td>\n",
       "      <td>0.01010</td>\n",
       "      <td>0.00518</td>\n",
       "    </tr>\n",
       "    <tr>\n",
       "      <th>great_acting</th>\n",
       "      <td>21</td>\n",
       "      <td>[1]</td>\n",
       "      <td>0.02134</td>\n",
       "      <td>0.01168</td>\n",
       "      <td>0.00648</td>\n",
       "    </tr>\n",
       "    <tr>\n",
       "      <th>great_direction</th>\n",
       "      <td>22</td>\n",
       "      <td>[1]</td>\n",
       "      <td>0.00112</td>\n",
       "      <td>0.00072</td>\n",
       "      <td>0.00018</td>\n",
       "    </tr>\n",
       "    <tr>\n",
       "      <th>great_story</th>\n",
       "      <td>23</td>\n",
       "      <td>[1]</td>\n",
       "      <td>0.00826</td>\n",
       "      <td>0.00462</td>\n",
       "      <td>0.00182</td>\n",
       "    </tr>\n",
       "    <tr>\n",
       "      <th>favourite</th>\n",
       "      <td>24</td>\n",
       "      <td>[1]</td>\n",
       "      <td>0.00808</td>\n",
       "      <td>0.00400</td>\n",
       "      <td>0.00224</td>\n",
       "    </tr>\n",
       "  </tbody>\n",
       "</table>\n",
       "</div>"
      ],
      "text/plain": [
       "                      j Polarity  Coverage  Overlaps  Conflicts\n",
       "atrocious             0      [0]   0.00734   0.00496    0.00148\n",
       "terrible              1      [0]   0.05400   0.03188    0.01024\n",
       "piece_of              2      [0]   0.00072   0.00046    0.00008\n",
       "woefully_miscast      3      [0]   0.00758   0.00384    0.00160\n",
       "bad_acting            4      [0]   0.08520   0.04734    0.01724\n",
       "cheesy_dull           5      [0]   0.05312   0.02882    0.01088\n",
       "disappoint            6      [0]   0.06914   0.03188    0.01586\n",
       "crap                  7      [0]   0.04880   0.02694    0.00980\n",
       "garbage               8      [0]   0.01652   0.00972    0.00304\n",
       "unsatisfied           9      [0]   0.00370   0.00186    0.00076\n",
       "ridiculous           10      [0]   0.03990   0.02238    0.00788\n",
       "classic              11      [1]   0.01694   0.00792    0.00450\n",
       "must_watch           12      [1]   0.00234   0.00140    0.00056\n",
       "oscar                13      [1]   0.00074   0.00028    0.00014\n",
       "love                 14      [1]   0.08582   0.03876    0.02616\n",
       "great_entertainment  15      [1]   0.00516   0.00286    0.00170\n",
       "very_entertaining    16      [1]   0.00602   0.00256    0.00132\n",
       "amazing              17      [1]   0.04680   0.02340    0.01338\n",
       "brilliant            18      [1]   0.00006   0.00004    0.00000\n",
       "fantastic            19      [1]   0.02758   0.01402    0.00700\n",
       "awesome              20      [1]   0.01876   0.01010    0.00518\n",
       "great_acting         21      [1]   0.02134   0.01168    0.00648\n",
       "great_direction      22      [1]   0.00112   0.00072    0.00018\n",
       "great_story          23      [1]   0.00826   0.00462    0.00182\n",
       "favourite            24      [1]   0.00808   0.00400    0.00224"
      ]
     },
     "execution_count": 62,
     "metadata": {},
     "output_type": "execute_result"
    }
   ],
   "source": [
    "from snorkel.labeling import LFAnalysis\n",
    "\n",
    "LFAnalysis(L=L_train_unsup, lfs=lfs).lf_summary()"
   ]
  },
  {
   "cell_type": "code",
   "execution_count": 63,
   "metadata": {
    "ExecuteTime": {
     "end_time": "2020-08-15T06:57:12.396368Z",
     "start_time": "2020-08-15T06:57:12.383413Z"
    }
   },
   "outputs": [
    {
     "name": "stdout",
     "output_type": "stream",
     "text": [
      "<class 'pandas.core.frame.DataFrame'>\n",
      "Int64Index: 22233 entries, 3 to 49999\n",
      "Data columns (total 3 columns):\n",
      "filename     22233 non-null object\n",
      "review       22233 non-null object\n",
      "sentiment    22233 non-null int64\n",
      "dtypes: int64(1), object(2)\n",
      "memory usage: 694.8+ KB\n"
     ]
    }
   ],
   "source": [
    "# rename snorkel to sentiment for concatentation to the training dataset\n",
    "p2 = pred_unsup_lfs.rename(columns={\"snorkel\": \"sentiment\"})\n",
    "p2.info()"
   ]
  },
  {
   "cell_type": "markdown",
   "metadata": {},
   "source": [
    "## Vectorize unsupervised reviews"
   ]
  },
  {
   "cell_type": "code",
   "execution_count": 64,
   "metadata": {
    "ExecuteTime": {
     "end_time": "2020-08-15T06:57:16.986291Z",
     "start_time": "2020-08-15T06:57:12.446931Z"
    }
   },
   "outputs": [],
   "source": [
    "# remove markup\n",
    "cleaned_unsup_reviews = p2.review.apply(lambda x: BeautifulSoup(x).text)"
   ]
  },
  {
   "cell_type": "code",
   "execution_count": 65,
   "metadata": {
    "ExecuteTime": {
     "end_time": "2020-08-15T06:57:17.045381Z",
     "start_time": "2020-08-15T06:57:17.041567Z"
    }
   },
   "outputs": [],
   "source": [
    "snorkel_reviews = pd.concat((cleaned_reviews, cleaned_unsup_reviews))"
   ]
  },
  {
   "cell_type": "code",
   "execution_count": 66,
   "metadata": {
    "ExecuteTime": {
     "end_time": "2020-08-15T06:57:17.190811Z",
     "start_time": "2020-08-15T06:57:17.102176Z"
    }
   },
   "outputs": [
    {
     "data": {
      "text/plain": [
       "count                                                 47233\n",
       "unique                                                46673\n",
       "top       Am not from America, I usually watch this show...\n",
       "freq                                                      6\n",
       "Name: review, dtype: object"
      ]
     },
     "execution_count": 66,
     "metadata": {},
     "output_type": "execute_result"
    }
   ],
   "source": [
    "snorkel_reviews.describe()"
   ]
  },
  {
   "cell_type": "code",
   "execution_count": 67,
   "metadata": {
    "ExecuteTime": {
     "end_time": "2020-08-15T06:57:17.257962Z",
     "start_time": "2020-08-15T06:57:17.247354Z"
    }
   },
   "outputs": [
    {
     "data": {
      "text/plain": [
       "count    47233.000000\n",
       "mean         0.433701\n",
       "std          0.495590\n",
       "min          0.000000\n",
       "25%          0.000000\n",
       "50%          0.000000\n",
       "75%          1.000000\n",
       "max          1.000000\n",
       "Name: sentiment, dtype: float64"
      ]
     },
     "execution_count": 67,
     "metadata": {},
     "output_type": "execute_result"
    }
   ],
   "source": [
    "snorkel_labels = pd.concat((train_df.sentiment, p2.sentiment))\n",
    "snorkel_labels.describe()"
   ]
  },
  {
   "cell_type": "code",
   "execution_count": 68,
   "metadata": {
    "ExecuteTime": {
     "end_time": "2020-08-15T06:57:17.642226Z",
     "start_time": "2020-08-15T06:57:17.312976Z"
    }
   },
   "outputs": [
    {
     "data": {
      "text/plain": [
       "<matplotlib.axes._subplots.AxesSubplot at 0x7f5f0ab43510>"
      ]
     },
     "execution_count": 68,
     "metadata": {},
     "output_type": "execute_result"
    },
    {
     "data": {
      "image/png": "[encoded data removed]",
      "text/plain": [
       "<Figure size 432x288 with 1 Axes>"
      ]
     },
     "metadata": {
      "needs_background": "light"
     },
     "output_type": "display_data"
    }
   ],
   "source": [
    "snorkel_labels.hist()"
   ]
  },
  {
   "cell_type": "code",
   "execution_count": 69,
   "metadata": {
    "ExecuteTime": {
     "end_time": "2020-08-15T06:57:17.773146Z",
     "start_time": "2020-08-15T06:57:17.693491Z"
    }
   },
   "outputs": [],
   "source": [
    "# convert pandas DF in to tf.Dataset\n",
    "snorkel_train = tf.data.Dataset.from_tensor_slices((snorkel_reviews.values, \n",
    "                                            snorkel_labels.values))"
   ]
  },
  {
   "cell_type": "code",
   "execution_count": 70,
   "metadata": {
    "ExecuteTime": {
     "end_time": "2020-08-15T06:57:17.838339Z",
     "start_time": "2020-08-15T06:57:17.830382Z"
    }
   },
   "outputs": [],
   "source": [
    "encoded_snorkel_train = snorkel_train.map(encode_tf_fn,\n",
    "                            num_parallel_calls=tf.data.experimental.AUTOTUNE)"
   ]
  },
  {
   "cell_type": "markdown",
   "metadata": {
    "ExecuteTime": {
     "end_time": "2020-08-10T07:37:30.990736Z",
     "start_time": "2020-08-10T07:37:30.908781Z"
    }
   },
   "source": [
    "## Supervised model for snorkel data"
   ]
  },
  {
   "cell_type": "code",
   "execution_count": 109,
   "metadata": {
    "ExecuteTime": {
     "end_time": "2020-08-16T06:21:52.193376Z",
     "start_time": "2020-08-16T06:21:49.770519Z"
    }
   },
   "outputs": [
    {
     "name": "stdout",
     "output_type": "stream",
     "text": [
      "Model: \"sequential_4\"\n",
      "_________________________________________________________________\n",
      "Layer (type)                 Output Shape              Param #   \n",
      "=================================================================\n",
      "embedding_4 (Embedding)      (100, None, 64)           529024    \n",
      "_________________________________________________________________\n",
      "bidirectional_8 (Bidirection (100, None, 128)          66048     \n",
      "_________________________________________________________________\n",
      "dropout_8 (Dropout)          (100, None, 128)          0         \n",
      "_________________________________________________________________\n",
      "bidirectional_9 (Bidirection (100, 128)                98816     \n",
      "_________________________________________________________________\n",
      "dropout_9 (Dropout)          (100, 128)                0         \n",
      "_________________________________________________________________\n",
      "dense_4 (Dense)              (100, 1)                  129       \n",
      "=================================================================\n",
      "Total params: 694,017\n",
      "Trainable params: 694,017\n",
      "Non-trainable params: 0\n",
      "_________________________________________________________________\n"
     ]
    }
   ],
   "source": [
    "# Length of the vocabulary \n",
    "vocab_size = imdb_encoder.vocab_size \n",
    "\n",
    "# Number of RNN units\n",
    "rnn_units = 64\n",
    "\n",
    "# Embedding size\n",
    "embedding_dim = 64\n",
    "\n",
    "#batch size\n",
    "BATCH_SIZE=100 \n",
    "\n",
    "bilstm2 = build_model_bilstm(\n",
    "  vocab_size = vocab_size,\n",
    "  embedding_dim=embedding_dim,\n",
    "  rnn_units=rnn_units,\n",
    "  batch_size=BATCH_SIZE)\n",
    "\n",
    "bilstm2.summary()"
   ]
  },
  {
   "cell_type": "code",
   "execution_count": 110,
   "metadata": {
    "ExecuteTime": {
     "end_time": "2020-08-16T06:21:54.496450Z",
     "start_time": "2020-08-16T06:21:54.357625Z"
    }
   },
   "outputs": [],
   "source": [
    "bilstm2.compile(loss='binary_crossentropy', \n",
    "             optimizer='adam', \n",
    "             metrics=['accuracy', 'Precision', 'Recall'])"
   ]
  },
  {
   "cell_type": "code",
   "execution_count": 111,
   "metadata": {
    "ExecuteTime": {
     "end_time": "2020-08-16T06:21:55.497981Z",
     "start_time": "2020-08-16T06:21:55.492116Z"
    }
   },
   "outputs": [],
   "source": [
    "encoded_snorkel_batched = encoded_snorkel_train.batch(BATCH_SIZE, \n",
    "                                        drop_remainder=True).\\\n",
    "                                        shuffle(buffer_size=47200)"
   ]
  },
  {
   "cell_type": "code",
   "execution_count": 112,
   "metadata": {
    "ExecuteTime": {
     "end_time": "2020-08-16T06:46:40.072451Z",
     "start_time": "2020-08-16T06:21:56.906749Z"
    },
    "scrolled": true
   },
   "outputs": [
    {
     "name": "stdout",
     "output_type": "stream",
     "text": [
      "Train for 472 steps\n",
      "Epoch 1/15\n",
      "472/472 [==============================] - 108s 229ms/step - loss: 0.4924 - accuracy: 0.7567 - Precision: 0.7457 - Recall: 0.6663\n",
      "Epoch 2/15\n",
      "472/472 [==============================] - 98s 208ms/step - loss: 0.3720 - accuracy: 0.8416 - Precision: 0.8199 - Recall: 0.8135\n",
      "Epoch 3/15\n",
      "472/472 [==============================] - 98s 208ms/step - loss: 0.3115 - accuracy: 0.8736 - Precision: 0.8556 - Recall: 0.8523\n",
      "Epoch 4/15\n",
      "472/472 [==============================] - 98s 209ms/step - loss: 0.2526 - accuracy: 0.9015 - Precision: 0.8884 - Recall: 0.8840\n",
      "Epoch 5/15\n",
      "472/472 [==============================] - 98s 208ms/step - loss: 0.1995 - accuracy: 0.9251 - Precision: 0.9150 - Recall: 0.9121\n",
      "Epoch 6/15\n",
      "472/472 [==============================] - 98s 208ms/step - loss: 0.1550 - accuracy: 0.9422 - Precision: 0.9351 - Recall: 0.9314\n",
      "Epoch 7/15\n",
      "472/472 [==============================] - 98s 208ms/step - loss: 0.1246 - accuracy: 0.9538 - Precision: 0.9471 - Recall: 0.9462\n",
      "Epoch 8/15\n",
      "472/472 [==============================] - 98s 208ms/step - loss: 0.0933 - accuracy: 0.9671 - Precision: 0.9639 - Recall: 0.9602\n",
      "Epoch 9/15\n",
      "472/472 [==============================] - 98s 208ms/step - loss: 0.0753 - accuracy: 0.9727 - Precision: 0.9694 - Recall: 0.9677\n",
      "Epoch 10/15\n",
      "472/472 [==============================] - 98s 207ms/step - loss: 0.0616 - accuracy: 0.9776 - Precision: 0.9743 - Recall: 0.9740\n",
      "Epoch 11/15\n",
      "472/472 [==============================] - 98s 208ms/step - loss: 0.0567 - accuracy: 0.9795 - Precision: 0.9769 - Recall: 0.9759\n",
      "Epoch 12/15\n",
      "472/472 [==============================] - 98s 208ms/step - loss: 0.0423 - accuracy: 0.9853 - Precision: 0.9836 - Recall: 0.9824\n",
      "Epoch 13/15\n",
      "472/472 [==============================] - 99s 209ms/step - loss: 0.0437 - accuracy: 0.9847 - Precision: 0.9820 - Recall: 0.9826\n",
      "Epoch 14/15\n",
      "472/472 [==============================] - 99s 209ms/step - loss: 0.0396 - accuracy: 0.9863 - Precision: 0.9841 - Recall: 0.9843\n",
      "Epoch 15/15\n",
      "472/472 [==============================] - 98s 208ms/step - loss: 0.0349 - accuracy: 0.9882 - Precision: 0.9862 - Recall: 0.9867\n"
     ]
    },
    {
     "data": {
      "text/plain": [
       "<tensorflow.python.keras.callbacks.History at 0x7f5eb8900810>"
      ]
     },
     "execution_count": 112,
     "metadata": {},
     "output_type": "execute_result"
    }
   ],
   "source": [
    "bilstm2.fit(encoded_snorkel_batched, epochs=15)"
   ]
  },
  {
   "cell_type": "code",
   "execution_count": 113,
   "metadata": {
    "ExecuteTime": {
     "end_time": "2020-08-16T06:47:38.911463Z",
     "start_time": "2020-08-16T06:47:02.118770Z"
    }
   },
   "outputs": [
    {
     "name": "stdout",
     "output_type": "stream",
     "text": [
      "250/250 [==============================] - 37s 147ms/step - loss: 0.0111 - accuracy: 0.9973 - Precision: 0.9974 - Recall: 0.9972\n"
     ]
    },
    {
     "data": {
      "text/plain": [
       "[0.011134903659112752, 0.99732, 0.9974394, 0.9972]"
      ]
     },
     "execution_count": 113,
     "metadata": {},
     "output_type": "execute_result"
    }
   ],
   "source": [
    "bilstm2.evaluate(encoded_test.batch(BATCH_SIZE))"
   ]
  },
  {
   "cell_type": "code",
   "execution_count": 114,
   "metadata": {
    "ExecuteTime": {
     "end_time": "2020-08-16T06:51:03.344404Z",
     "start_time": "2020-08-16T06:51:00.715989Z"
    }
   },
   "outputs": [],
   "source": [
    "# Massive difference in performance without shuffling\n",
    "# however, model still did better than baseline without shuffling\n",
    "# performance of baseline went up very slightly due to \n",
    "# shuffling though.\n",
    "bilstm3 = build_model_bilstm(\n",
    "  vocab_size = vocab_size,\n",
    "  embedding_dim=embedding_dim,\n",
    "  rnn_units=rnn_units,\n",
    "  batch_size=BATCH_SIZE)\n",
    "\n",
    "bilstm3.compile(loss='binary_crossentropy', \n",
    "             optimizer='adam', \n",
    "             metrics=['accuracy', 'Precision', 'Recall'])\n",
    "\n",
    "encoded_snorkel_unshuff = encoded_snorkel_train.batch(BATCH_SIZE, \n",
    "                                        drop_remainder=True)"
   ]
  },
  {
   "cell_type": "code",
   "execution_count": 115,
   "metadata": {
    "ExecuteTime": {
     "end_time": "2020-08-16T07:07:33.494164Z",
     "start_time": "2020-08-16T06:51:23.131188Z"
    }
   },
   "outputs": [
    {
     "name": "stdout",
     "output_type": "stream",
     "text": [
      "Train for 472 steps\n",
      "Epoch 1/15\n",
      "472/472 [==============================] - 72s 152ms/step - loss: 0.4661 - accuracy: 0.7711 - Precision: 0.7598 - Recall: 0.6908\n",
      "Epoch 2/15\n",
      "472/472 [==============================] - 64s 136ms/step - loss: 0.3494 - accuracy: 0.8486 - Precision: 0.8321 - Recall: 0.8155\n",
      "Epoch 3/15\n",
      "472/472 [==============================] - 64s 136ms/step - loss: 0.2901 - accuracy: 0.8812 - Precision: 0.8675 - Recall: 0.8570\n",
      "Epoch 4/15\n",
      "472/472 [==============================] - 64s 136ms/step - loss: 0.2496 - accuracy: 0.9000 - Precision: 0.8886 - Recall: 0.8798\n",
      "Epoch 5/15\n",
      "472/472 [==============================] - 64s 136ms/step - loss: 0.2385 - accuracy: 0.9060 - Precision: 0.8945 - Recall: 0.8880\n",
      "Epoch 6/15\n",
      "472/472 [==============================] - 64s 136ms/step - loss: 0.1917 - accuracy: 0.9244 - Precision: 0.9164 - Recall: 0.9087\n",
      "Epoch 7/15\n",
      "472/472 [==============================] - 64s 136ms/step - loss: 0.1488 - accuracy: 0.9427 - Precision: 0.9361 - Recall: 0.9316\n",
      "Epoch 8/15\n",
      "472/472 [==============================] - 64s 136ms/step - loss: 0.1224 - accuracy: 0.9543 - Precision: 0.9487 - Recall: 0.9457\n",
      "Epoch 9/15\n",
      "472/472 [==============================] - 64s 136ms/step - loss: 0.1276 - accuracy: 0.9510 - Precision: 0.9457 - Recall: 0.9409\n",
      "Epoch 10/15\n",
      "472/472 [==============================] - 64s 136ms/step - loss: 0.1340 - accuracy: 0.9483 - Precision: 0.9414 - Recall: 0.9393\n",
      "Epoch 11/15\n",
      "472/472 [==============================] - 64s 136ms/step - loss: 0.1111 - accuracy: 0.9568 - Precision: 0.9522 - Recall: 0.9481\n",
      "Epoch 12/15\n",
      "472/472 [==============================] - 64s 136ms/step - loss: 0.0975 - accuracy: 0.9625 - Precision: 0.9587 - Recall: 0.9548\n",
      "Epoch 13/15\n",
      "472/472 [==============================] - 64s 136ms/step - loss: 0.0891 - accuracy: 0.9664 - Precision: 0.9619 - Recall: 0.9605\n",
      "Epoch 14/15\n",
      "472/472 [==============================] - 64s 135ms/step - loss: 0.0864 - accuracy: 0.9678 - Precision: 0.9636 - Recall: 0.9621\n",
      "Epoch 15/15\n",
      "472/472 [==============================] - 64s 136ms/step - loss: 0.0915 - accuracy: 0.9656 - Precision: 0.9600 - Recall: 0.9607\n"
     ]
    },
    {
     "data": {
      "text/plain": [
       "<tensorflow.python.keras.callbacks.History at 0x7f5f094828d0>"
      ]
     },
     "execution_count": 115,
     "metadata": {},
     "output_type": "execute_result"
    }
   ],
   "source": [
    "bilstm3.fit(encoded_snorkel_unshuff, epochs=15)"
   ]
  },
  {
   "cell_type": "code",
   "execution_count": 116,
   "metadata": {
    "ExecuteTime": {
     "end_time": "2020-08-16T07:08:09.189172Z",
     "start_time": "2020-08-16T07:07:34.001047Z"
    }
   },
   "outputs": [
    {
     "name": "stdout",
     "output_type": "stream",
     "text": [
      "250/250 [==============================] - 35s 141ms/step - loss: 0.5056 - accuracy: 0.8488 - Precision: 0.8483 - Recall: 0.8496\n"
     ]
    },
    {
     "data": {
      "text/plain": [
       "[0.5056389166712761, 0.84884, 0.8483106, 0.8496]"
      ]
     },
     "execution_count": 116,
     "metadata": {},
     "output_type": "execute_result"
    }
   ],
   "source": [
    "bilstm3.evaluate(encoded_test.batch(BATCH_SIZE))"
   ]
  },
  {
   "cell_type": "code",
   "execution_count": null,
   "metadata": {},
   "outputs": [],
   "source": []
  }
 ],
 "metadata": {
  "kernelspec": {
   "display_name": "TF 2.1 (GPU)/Py3.7.5",
   "language": "python",
   "name": "tf21g"
  },
  "language_info": {
   "codemirror_mode": {
    "name": "ipython",
    "version": 3
   },
   "file_extension": ".py",
   "mimetype": "text/x-python",
   "name": "python",
   "nbconvert_exporter": "python",
   "pygments_lexer": "ipython3",
   "version": "3.7.5"
  },
  "toc": {
   "base_numbering": 1,
   "nav_menu": {},
   "number_sections": true,
   "sideBar": true,
   "skip_h1_title": false,
   "title_cell": "Table of Contents",
   "title_sidebar": "Contents",
   "toc_cell": false,
   "toc_position": {
    "height": "calc(100% - 180px)",
    "left": "10px",
    "top": "150px",
    "width": "247px"
   },
   "toc_section_display": true,
   "toc_window_display": true
  },
  "varInspector": {
   "cols": {
    "lenName": 16,
    "lenType": 16,
    "lenVar": 40
   },
   "kernels_config": {
    "python": {
     "delete_cmd_postfix": "",
     "delete_cmd_prefix": "del ",
     "library": "var_list.py",
     "varRefreshCmd": "print(var_dic_list())"
    },
    "r": {
     "delete_cmd_postfix": ") ",
     "delete_cmd_prefix": "rm(",
     "library": "var_list.r",
     "varRefreshCmd": "cat(var_dic_list()) "
    }
   },
   "types_to_exclude": [
    "module",
    "function",
    "builtin_function_or_method",
    "instance",
    "_Feature"
   ],
   "window_display": false
  }
 },
 "nbformat": 4,
 "nbformat_minor": 2
}
